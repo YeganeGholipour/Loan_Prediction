{
 "cells": [
  {
   "cell_type": "code",
   "execution_count": 1,
   "id": "40c47a0d",
   "metadata": {},
   "outputs": [],
   "source": [
    "import numpy as np\n",
    "import pandas as pd\n",
    "import matplotlib.pyplot as plt\n",
    "import seaborn as sns"
   ]
  },
  {
   "cell_type": "code",
   "execution_count": 2,
   "id": "c5d6f774",
   "metadata": {},
   "outputs": [],
   "source": [
    "train_set = pd.read_csv('train_u6lujuX_CVtuZ9i.csv')\n",
    "test_set = pd.read_csv('test_Y3wMUE5_7gLdaTN.csv')"
   ]
  },
  {
   "cell_type": "code",
   "execution_count": 3,
   "id": "15404dfe",
   "metadata": {},
   "outputs": [
    {
     "data": {
      "text/html": [
       "<div>\n",
       "<style scoped>\n",
       "    .dataframe tbody tr th:only-of-type {\n",
       "        vertical-align: middle;\n",
       "    }\n",
       "\n",
       "    .dataframe tbody tr th {\n",
       "        vertical-align: top;\n",
       "    }\n",
       "\n",
       "    .dataframe thead th {\n",
       "        text-align: right;\n",
       "    }\n",
       "</style>\n",
       "<table border=\"1\" class=\"dataframe\">\n",
       "  <thead>\n",
       "    <tr style=\"text-align: right;\">\n",
       "      <th></th>\n",
       "      <th>Loan_ID</th>\n",
       "      <th>Gender</th>\n",
       "      <th>Married</th>\n",
       "      <th>Dependents</th>\n",
       "      <th>Education</th>\n",
       "      <th>Self_Employed</th>\n",
       "      <th>ApplicantIncome</th>\n",
       "      <th>CoapplicantIncome</th>\n",
       "      <th>LoanAmount</th>\n",
       "      <th>Loan_Amount_Term</th>\n",
       "      <th>Credit_History</th>\n",
       "      <th>Property_Area</th>\n",
       "      <th>Loan_Status</th>\n",
       "    </tr>\n",
       "  </thead>\n",
       "  <tbody>\n",
       "    <tr>\n",
       "      <th>0</th>\n",
       "      <td>LP001002</td>\n",
       "      <td>Male</td>\n",
       "      <td>No</td>\n",
       "      <td>0</td>\n",
       "      <td>Graduate</td>\n",
       "      <td>No</td>\n",
       "      <td>5849</td>\n",
       "      <td>0.0</td>\n",
       "      <td>NaN</td>\n",
       "      <td>360.0</td>\n",
       "      <td>1.0</td>\n",
       "      <td>Urban</td>\n",
       "      <td>Y</td>\n",
       "    </tr>\n",
       "    <tr>\n",
       "      <th>1</th>\n",
       "      <td>LP001003</td>\n",
       "      <td>Male</td>\n",
       "      <td>Yes</td>\n",
       "      <td>1</td>\n",
       "      <td>Graduate</td>\n",
       "      <td>No</td>\n",
       "      <td>4583</td>\n",
       "      <td>1508.0</td>\n",
       "      <td>128.0</td>\n",
       "      <td>360.0</td>\n",
       "      <td>1.0</td>\n",
       "      <td>Rural</td>\n",
       "      <td>N</td>\n",
       "    </tr>\n",
       "    <tr>\n",
       "      <th>2</th>\n",
       "      <td>LP001005</td>\n",
       "      <td>Male</td>\n",
       "      <td>Yes</td>\n",
       "      <td>0</td>\n",
       "      <td>Graduate</td>\n",
       "      <td>Yes</td>\n",
       "      <td>3000</td>\n",
       "      <td>0.0</td>\n",
       "      <td>66.0</td>\n",
       "      <td>360.0</td>\n",
       "      <td>1.0</td>\n",
       "      <td>Urban</td>\n",
       "      <td>Y</td>\n",
       "    </tr>\n",
       "    <tr>\n",
       "      <th>3</th>\n",
       "      <td>LP001006</td>\n",
       "      <td>Male</td>\n",
       "      <td>Yes</td>\n",
       "      <td>0</td>\n",
       "      <td>Not Graduate</td>\n",
       "      <td>No</td>\n",
       "      <td>2583</td>\n",
       "      <td>2358.0</td>\n",
       "      <td>120.0</td>\n",
       "      <td>360.0</td>\n",
       "      <td>1.0</td>\n",
       "      <td>Urban</td>\n",
       "      <td>Y</td>\n",
       "    </tr>\n",
       "    <tr>\n",
       "      <th>4</th>\n",
       "      <td>LP001008</td>\n",
       "      <td>Male</td>\n",
       "      <td>No</td>\n",
       "      <td>0</td>\n",
       "      <td>Graduate</td>\n",
       "      <td>No</td>\n",
       "      <td>6000</td>\n",
       "      <td>0.0</td>\n",
       "      <td>141.0</td>\n",
       "      <td>360.0</td>\n",
       "      <td>1.0</td>\n",
       "      <td>Urban</td>\n",
       "      <td>Y</td>\n",
       "    </tr>\n",
       "    <tr>\n",
       "      <th>5</th>\n",
       "      <td>LP001011</td>\n",
       "      <td>Male</td>\n",
       "      <td>Yes</td>\n",
       "      <td>2</td>\n",
       "      <td>Graduate</td>\n",
       "      <td>Yes</td>\n",
       "      <td>5417</td>\n",
       "      <td>4196.0</td>\n",
       "      <td>267.0</td>\n",
       "      <td>360.0</td>\n",
       "      <td>1.0</td>\n",
       "      <td>Urban</td>\n",
       "      <td>Y</td>\n",
       "    </tr>\n",
       "    <tr>\n",
       "      <th>6</th>\n",
       "      <td>LP001013</td>\n",
       "      <td>Male</td>\n",
       "      <td>Yes</td>\n",
       "      <td>0</td>\n",
       "      <td>Not Graduate</td>\n",
       "      <td>No</td>\n",
       "      <td>2333</td>\n",
       "      <td>1516.0</td>\n",
       "      <td>95.0</td>\n",
       "      <td>360.0</td>\n",
       "      <td>1.0</td>\n",
       "      <td>Urban</td>\n",
       "      <td>Y</td>\n",
       "    </tr>\n",
       "    <tr>\n",
       "      <th>7</th>\n",
       "      <td>LP001014</td>\n",
       "      <td>Male</td>\n",
       "      <td>Yes</td>\n",
       "      <td>3+</td>\n",
       "      <td>Graduate</td>\n",
       "      <td>No</td>\n",
       "      <td>3036</td>\n",
       "      <td>2504.0</td>\n",
       "      <td>158.0</td>\n",
       "      <td>360.0</td>\n",
       "      <td>0.0</td>\n",
       "      <td>Semiurban</td>\n",
       "      <td>N</td>\n",
       "    </tr>\n",
       "    <tr>\n",
       "      <th>8</th>\n",
       "      <td>LP001018</td>\n",
       "      <td>Male</td>\n",
       "      <td>Yes</td>\n",
       "      <td>2</td>\n",
       "      <td>Graduate</td>\n",
       "      <td>No</td>\n",
       "      <td>4006</td>\n",
       "      <td>1526.0</td>\n",
       "      <td>168.0</td>\n",
       "      <td>360.0</td>\n",
       "      <td>1.0</td>\n",
       "      <td>Urban</td>\n",
       "      <td>Y</td>\n",
       "    </tr>\n",
       "    <tr>\n",
       "      <th>9</th>\n",
       "      <td>LP001020</td>\n",
       "      <td>Male</td>\n",
       "      <td>Yes</td>\n",
       "      <td>1</td>\n",
       "      <td>Graduate</td>\n",
       "      <td>No</td>\n",
       "      <td>12841</td>\n",
       "      <td>10968.0</td>\n",
       "      <td>349.0</td>\n",
       "      <td>360.0</td>\n",
       "      <td>1.0</td>\n",
       "      <td>Semiurban</td>\n",
       "      <td>N</td>\n",
       "    </tr>\n",
       "  </tbody>\n",
       "</table>\n",
       "</div>"
      ],
      "text/plain": [
       "    Loan_ID Gender Married Dependents     Education Self_Employed  \\\n",
       "0  LP001002   Male      No          0      Graduate            No   \n",
       "1  LP001003   Male     Yes          1      Graduate            No   \n",
       "2  LP001005   Male     Yes          0      Graduate           Yes   \n",
       "3  LP001006   Male     Yes          0  Not Graduate            No   \n",
       "4  LP001008   Male      No          0      Graduate            No   \n",
       "5  LP001011   Male     Yes          2      Graduate           Yes   \n",
       "6  LP001013   Male     Yes          0  Not Graduate            No   \n",
       "7  LP001014   Male     Yes         3+      Graduate            No   \n",
       "8  LP001018   Male     Yes          2      Graduate            No   \n",
       "9  LP001020   Male     Yes          1      Graduate            No   \n",
       "\n",
       "   ApplicantIncome  CoapplicantIncome  LoanAmount  Loan_Amount_Term  \\\n",
       "0             5849                0.0         NaN             360.0   \n",
       "1             4583             1508.0       128.0             360.0   \n",
       "2             3000                0.0        66.0             360.0   \n",
       "3             2583             2358.0       120.0             360.0   \n",
       "4             6000                0.0       141.0             360.0   \n",
       "5             5417             4196.0       267.0             360.0   \n",
       "6             2333             1516.0        95.0             360.0   \n",
       "7             3036             2504.0       158.0             360.0   \n",
       "8             4006             1526.0       168.0             360.0   \n",
       "9            12841            10968.0       349.0             360.0   \n",
       "\n",
       "   Credit_History Property_Area Loan_Status  \n",
       "0             1.0         Urban           Y  \n",
       "1             1.0         Rural           N  \n",
       "2             1.0         Urban           Y  \n",
       "3             1.0         Urban           Y  \n",
       "4             1.0         Urban           Y  \n",
       "5             1.0         Urban           Y  \n",
       "6             1.0         Urban           Y  \n",
       "7             0.0     Semiurban           N  \n",
       "8             1.0         Urban           Y  \n",
       "9             1.0     Semiurban           N  "
      ]
     },
     "execution_count": 3,
     "metadata": {},
     "output_type": "execute_result"
    }
   ],
   "source": [
    "train_set.head(10)"
   ]
  },
  {
   "cell_type": "code",
   "execution_count": 4,
   "id": "790e2530",
   "metadata": {},
   "outputs": [
    {
     "data": {
      "text/html": [
       "<div>\n",
       "<style scoped>\n",
       "    .dataframe tbody tr th:only-of-type {\n",
       "        vertical-align: middle;\n",
       "    }\n",
       "\n",
       "    .dataframe tbody tr th {\n",
       "        vertical-align: top;\n",
       "    }\n",
       "\n",
       "    .dataframe thead th {\n",
       "        text-align: right;\n",
       "    }\n",
       "</style>\n",
       "<table border=\"1\" class=\"dataframe\">\n",
       "  <thead>\n",
       "    <tr style=\"text-align: right;\">\n",
       "      <th></th>\n",
       "      <th>Loan_ID</th>\n",
       "      <th>Gender</th>\n",
       "      <th>Married</th>\n",
       "      <th>Dependents</th>\n",
       "      <th>Education</th>\n",
       "      <th>Self_Employed</th>\n",
       "      <th>ApplicantIncome</th>\n",
       "      <th>CoapplicantIncome</th>\n",
       "      <th>LoanAmount</th>\n",
       "      <th>Loan_Amount_Term</th>\n",
       "      <th>Credit_History</th>\n",
       "      <th>Property_Area</th>\n",
       "    </tr>\n",
       "  </thead>\n",
       "  <tbody>\n",
       "    <tr>\n",
       "      <th>0</th>\n",
       "      <td>LP001015</td>\n",
       "      <td>Male</td>\n",
       "      <td>Yes</td>\n",
       "      <td>0</td>\n",
       "      <td>Graduate</td>\n",
       "      <td>No</td>\n",
       "      <td>5720</td>\n",
       "      <td>0</td>\n",
       "      <td>110.0</td>\n",
       "      <td>360.0</td>\n",
       "      <td>1.0</td>\n",
       "      <td>Urban</td>\n",
       "    </tr>\n",
       "    <tr>\n",
       "      <th>1</th>\n",
       "      <td>LP001022</td>\n",
       "      <td>Male</td>\n",
       "      <td>Yes</td>\n",
       "      <td>1</td>\n",
       "      <td>Graduate</td>\n",
       "      <td>No</td>\n",
       "      <td>3076</td>\n",
       "      <td>1500</td>\n",
       "      <td>126.0</td>\n",
       "      <td>360.0</td>\n",
       "      <td>1.0</td>\n",
       "      <td>Urban</td>\n",
       "    </tr>\n",
       "    <tr>\n",
       "      <th>2</th>\n",
       "      <td>LP001031</td>\n",
       "      <td>Male</td>\n",
       "      <td>Yes</td>\n",
       "      <td>2</td>\n",
       "      <td>Graduate</td>\n",
       "      <td>No</td>\n",
       "      <td>5000</td>\n",
       "      <td>1800</td>\n",
       "      <td>208.0</td>\n",
       "      <td>360.0</td>\n",
       "      <td>1.0</td>\n",
       "      <td>Urban</td>\n",
       "    </tr>\n",
       "    <tr>\n",
       "      <th>3</th>\n",
       "      <td>LP001035</td>\n",
       "      <td>Male</td>\n",
       "      <td>Yes</td>\n",
       "      <td>2</td>\n",
       "      <td>Graduate</td>\n",
       "      <td>No</td>\n",
       "      <td>2340</td>\n",
       "      <td>2546</td>\n",
       "      <td>100.0</td>\n",
       "      <td>360.0</td>\n",
       "      <td>NaN</td>\n",
       "      <td>Urban</td>\n",
       "    </tr>\n",
       "    <tr>\n",
       "      <th>4</th>\n",
       "      <td>LP001051</td>\n",
       "      <td>Male</td>\n",
       "      <td>No</td>\n",
       "      <td>0</td>\n",
       "      <td>Not Graduate</td>\n",
       "      <td>No</td>\n",
       "      <td>3276</td>\n",
       "      <td>0</td>\n",
       "      <td>78.0</td>\n",
       "      <td>360.0</td>\n",
       "      <td>1.0</td>\n",
       "      <td>Urban</td>\n",
       "    </tr>\n",
       "    <tr>\n",
       "      <th>5</th>\n",
       "      <td>LP001054</td>\n",
       "      <td>Male</td>\n",
       "      <td>Yes</td>\n",
       "      <td>0</td>\n",
       "      <td>Not Graduate</td>\n",
       "      <td>Yes</td>\n",
       "      <td>2165</td>\n",
       "      <td>3422</td>\n",
       "      <td>152.0</td>\n",
       "      <td>360.0</td>\n",
       "      <td>1.0</td>\n",
       "      <td>Urban</td>\n",
       "    </tr>\n",
       "    <tr>\n",
       "      <th>6</th>\n",
       "      <td>LP001055</td>\n",
       "      <td>Female</td>\n",
       "      <td>No</td>\n",
       "      <td>1</td>\n",
       "      <td>Not Graduate</td>\n",
       "      <td>No</td>\n",
       "      <td>2226</td>\n",
       "      <td>0</td>\n",
       "      <td>59.0</td>\n",
       "      <td>360.0</td>\n",
       "      <td>1.0</td>\n",
       "      <td>Semiurban</td>\n",
       "    </tr>\n",
       "    <tr>\n",
       "      <th>7</th>\n",
       "      <td>LP001056</td>\n",
       "      <td>Male</td>\n",
       "      <td>Yes</td>\n",
       "      <td>2</td>\n",
       "      <td>Not Graduate</td>\n",
       "      <td>No</td>\n",
       "      <td>3881</td>\n",
       "      <td>0</td>\n",
       "      <td>147.0</td>\n",
       "      <td>360.0</td>\n",
       "      <td>0.0</td>\n",
       "      <td>Rural</td>\n",
       "    </tr>\n",
       "    <tr>\n",
       "      <th>8</th>\n",
       "      <td>LP001059</td>\n",
       "      <td>Male</td>\n",
       "      <td>Yes</td>\n",
       "      <td>2</td>\n",
       "      <td>Graduate</td>\n",
       "      <td>NaN</td>\n",
       "      <td>13633</td>\n",
       "      <td>0</td>\n",
       "      <td>280.0</td>\n",
       "      <td>240.0</td>\n",
       "      <td>1.0</td>\n",
       "      <td>Urban</td>\n",
       "    </tr>\n",
       "    <tr>\n",
       "      <th>9</th>\n",
       "      <td>LP001067</td>\n",
       "      <td>Male</td>\n",
       "      <td>No</td>\n",
       "      <td>0</td>\n",
       "      <td>Not Graduate</td>\n",
       "      <td>No</td>\n",
       "      <td>2400</td>\n",
       "      <td>2400</td>\n",
       "      <td>123.0</td>\n",
       "      <td>360.0</td>\n",
       "      <td>1.0</td>\n",
       "      <td>Semiurban</td>\n",
       "    </tr>\n",
       "  </tbody>\n",
       "</table>\n",
       "</div>"
      ],
      "text/plain": [
       "    Loan_ID  Gender Married Dependents     Education Self_Employed  \\\n",
       "0  LP001015    Male     Yes          0      Graduate            No   \n",
       "1  LP001022    Male     Yes          1      Graduate            No   \n",
       "2  LP001031    Male     Yes          2      Graduate            No   \n",
       "3  LP001035    Male     Yes          2      Graduate            No   \n",
       "4  LP001051    Male      No          0  Not Graduate            No   \n",
       "5  LP001054    Male     Yes          0  Not Graduate           Yes   \n",
       "6  LP001055  Female      No          1  Not Graduate            No   \n",
       "7  LP001056    Male     Yes          2  Not Graduate            No   \n",
       "8  LP001059    Male     Yes          2      Graduate           NaN   \n",
       "9  LP001067    Male      No          0  Not Graduate            No   \n",
       "\n",
       "   ApplicantIncome  CoapplicantIncome  LoanAmount  Loan_Amount_Term  \\\n",
       "0             5720                  0       110.0             360.0   \n",
       "1             3076               1500       126.0             360.0   \n",
       "2             5000               1800       208.0             360.0   \n",
       "3             2340               2546       100.0             360.0   \n",
       "4             3276                  0        78.0             360.0   \n",
       "5             2165               3422       152.0             360.0   \n",
       "6             2226                  0        59.0             360.0   \n",
       "7             3881                  0       147.0             360.0   \n",
       "8            13633                  0       280.0             240.0   \n",
       "9             2400               2400       123.0             360.0   \n",
       "\n",
       "   Credit_History Property_Area  \n",
       "0             1.0         Urban  \n",
       "1             1.0         Urban  \n",
       "2             1.0         Urban  \n",
       "3             NaN         Urban  \n",
       "4             1.0         Urban  \n",
       "5             1.0         Urban  \n",
       "6             1.0     Semiurban  \n",
       "7             0.0         Rural  \n",
       "8             1.0         Urban  \n",
       "9             1.0     Semiurban  "
      ]
     },
     "execution_count": 4,
     "metadata": {},
     "output_type": "execute_result"
    }
   ],
   "source": [
    "test_set.head(10)"
   ]
  },
  {
   "cell_type": "code",
   "execution_count": 5,
   "id": "1e2ce96e",
   "metadata": {},
   "outputs": [
    {
     "name": "stdout",
     "output_type": "stream",
     "text": [
      "train set shape (row, col): (614, 13) \n",
      "\n",
      "test set shape (row, col): (367, 12)\n"
     ]
    }
   ],
   "source": [
    "print(f'train set shape (row, col): {train_set.shape} \\n\\ntest set shape (row, col): {test_set.shape}')"
   ]
  },
  {
   "cell_type": "code",
   "execution_count": 6,
   "id": "ede63907",
   "metadata": {},
   "outputs": [],
   "source": [
    "train_set.drop('Loan_ID',axis=1,inplace=True)\n",
    "test_set.drop('Loan_ID',axis=1,inplace=True)"
   ]
  },
  {
   "cell_type": "code",
   "execution_count": 7,
   "id": "8cdf9f25",
   "metadata": {},
   "outputs": [
    {
     "data": {
      "text/html": [
       "<div>\n",
       "<style scoped>\n",
       "    .dataframe tbody tr th:only-of-type {\n",
       "        vertical-align: middle;\n",
       "    }\n",
       "\n",
       "    .dataframe tbody tr th {\n",
       "        vertical-align: top;\n",
       "    }\n",
       "\n",
       "    .dataframe thead th {\n",
       "        text-align: right;\n",
       "    }\n",
       "</style>\n",
       "<table border=\"1\" class=\"dataframe\">\n",
       "  <thead>\n",
       "    <tr style=\"text-align: right;\">\n",
       "      <th></th>\n",
       "      <th>ApplicantIncome</th>\n",
       "      <th>CoapplicantIncome</th>\n",
       "      <th>LoanAmount</th>\n",
       "      <th>Loan_Amount_Term</th>\n",
       "      <th>Credit_History</th>\n",
       "    </tr>\n",
       "  </thead>\n",
       "  <tbody>\n",
       "    <tr>\n",
       "      <th>count</th>\n",
       "      <td>614.000000</td>\n",
       "      <td>614.000000</td>\n",
       "      <td>592.000000</td>\n",
       "      <td>600.00000</td>\n",
       "      <td>564.000000</td>\n",
       "    </tr>\n",
       "    <tr>\n",
       "      <th>mean</th>\n",
       "      <td>5403.459283</td>\n",
       "      <td>1621.245798</td>\n",
       "      <td>146.412162</td>\n",
       "      <td>342.00000</td>\n",
       "      <td>0.842199</td>\n",
       "    </tr>\n",
       "    <tr>\n",
       "      <th>std</th>\n",
       "      <td>6109.041673</td>\n",
       "      <td>2926.248369</td>\n",
       "      <td>85.587325</td>\n",
       "      <td>65.12041</td>\n",
       "      <td>0.364878</td>\n",
       "    </tr>\n",
       "    <tr>\n",
       "      <th>min</th>\n",
       "      <td>150.000000</td>\n",
       "      <td>0.000000</td>\n",
       "      <td>9.000000</td>\n",
       "      <td>12.00000</td>\n",
       "      <td>0.000000</td>\n",
       "    </tr>\n",
       "    <tr>\n",
       "      <th>25%</th>\n",
       "      <td>2877.500000</td>\n",
       "      <td>0.000000</td>\n",
       "      <td>100.000000</td>\n",
       "      <td>360.00000</td>\n",
       "      <td>1.000000</td>\n",
       "    </tr>\n",
       "    <tr>\n",
       "      <th>50%</th>\n",
       "      <td>3812.500000</td>\n",
       "      <td>1188.500000</td>\n",
       "      <td>128.000000</td>\n",
       "      <td>360.00000</td>\n",
       "      <td>1.000000</td>\n",
       "    </tr>\n",
       "    <tr>\n",
       "      <th>75%</th>\n",
       "      <td>5795.000000</td>\n",
       "      <td>2297.250000</td>\n",
       "      <td>168.000000</td>\n",
       "      <td>360.00000</td>\n",
       "      <td>1.000000</td>\n",
       "    </tr>\n",
       "    <tr>\n",
       "      <th>max</th>\n",
       "      <td>81000.000000</td>\n",
       "      <td>41667.000000</td>\n",
       "      <td>700.000000</td>\n",
       "      <td>480.00000</td>\n",
       "      <td>1.000000</td>\n",
       "    </tr>\n",
       "  </tbody>\n",
       "</table>\n",
       "</div>"
      ],
      "text/plain": [
       "       ApplicantIncome  CoapplicantIncome  LoanAmount  Loan_Amount_Term  \\\n",
       "count       614.000000         614.000000  592.000000         600.00000   \n",
       "mean       5403.459283        1621.245798  146.412162         342.00000   \n",
       "std        6109.041673        2926.248369   85.587325          65.12041   \n",
       "min         150.000000           0.000000    9.000000          12.00000   \n",
       "25%        2877.500000           0.000000  100.000000         360.00000   \n",
       "50%        3812.500000        1188.500000  128.000000         360.00000   \n",
       "75%        5795.000000        2297.250000  168.000000         360.00000   \n",
       "max       81000.000000       41667.000000  700.000000         480.00000   \n",
       "\n",
       "       Credit_History  \n",
       "count      564.000000  \n",
       "mean         0.842199  \n",
       "std          0.364878  \n",
       "min          0.000000  \n",
       "25%          1.000000  \n",
       "50%          1.000000  \n",
       "75%          1.000000  \n",
       "max          1.000000  "
      ]
     },
     "execution_count": 7,
     "metadata": {},
     "output_type": "execute_result"
    }
   ],
   "source": [
    "train_set.describe()"
   ]
  },
  {
   "cell_type": "code",
   "execution_count": 8,
   "id": "f0047482",
   "metadata": {},
   "outputs": [
    {
     "name": "stdout",
     "output_type": "stream",
     "text": [
      "<class 'pandas.core.frame.DataFrame'>\n",
      "RangeIndex: 614 entries, 0 to 613\n",
      "Data columns (total 12 columns):\n",
      " #   Column             Non-Null Count  Dtype  \n",
      "---  ------             --------------  -----  \n",
      " 0   Gender             601 non-null    object \n",
      " 1   Married            611 non-null    object \n",
      " 2   Dependents         599 non-null    object \n",
      " 3   Education          614 non-null    object \n",
      " 4   Self_Employed      582 non-null    object \n",
      " 5   ApplicantIncome    614 non-null    int64  \n",
      " 6   CoapplicantIncome  614 non-null    float64\n",
      " 7   LoanAmount         592 non-null    float64\n",
      " 8   Loan_Amount_Term   600 non-null    float64\n",
      " 9   Credit_History     564 non-null    float64\n",
      " 10  Property_Area      614 non-null    object \n",
      " 11  Loan_Status        614 non-null    object \n",
      "dtypes: float64(4), int64(1), object(7)\n",
      "memory usage: 57.7+ KB\n"
     ]
    }
   ],
   "source": [
    "train_set.info(verbose=True, show_counts=True)"
   ]
  },
  {
   "cell_type": "code",
   "execution_count": 9,
   "id": "872f567f",
   "metadata": {},
   "outputs": [
    {
     "data": {
      "text/plain": [
       "Gender                True\n",
       "Married               True\n",
       "Dependents            True\n",
       "Education            False\n",
       "Self_Employed         True\n",
       "ApplicantIncome      False\n",
       "CoapplicantIncome    False\n",
       "LoanAmount            True\n",
       "Loan_Amount_Term      True\n",
       "Credit_History        True\n",
       "Property_Area        False\n",
       "Loan_Status          False\n",
       "dtype: bool"
      ]
     },
     "execution_count": 9,
     "metadata": {},
     "output_type": "execute_result"
    }
   ],
   "source": [
    "train_set.isnull().any() # 614 rows but 50 rows have null values"
   ]
  },
  {
   "cell_type": "code",
   "execution_count": 10,
   "id": "250572cf",
   "metadata": {},
   "outputs": [
    {
     "data": {
      "text/plain": [
       "Gender               13\n",
       "Married               3\n",
       "Dependents           15\n",
       "Education             0\n",
       "Self_Employed        32\n",
       "ApplicantIncome       0\n",
       "CoapplicantIncome     0\n",
       "LoanAmount           22\n",
       "Loan_Amount_Term     14\n",
       "Credit_History       50\n",
       "Property_Area         0\n",
       "Loan_Status           0\n",
       "dtype: int64"
      ]
     },
     "execution_count": 10,
     "metadata": {},
     "output_type": "execute_result"
    }
   ],
   "source": [
    "train_set.isnull().sum()"
   ]
  },
  {
   "cell_type": "code",
   "execution_count": 11,
   "id": "bfb5505f",
   "metadata": {},
   "outputs": [],
   "source": [
    "# train_set['Gender'].mode()"
   ]
  },
  {
   "cell_type": "code",
   "execution_count": 12,
   "id": "1f361b98",
   "metadata": {},
   "outputs": [],
   "source": [
    "# train_set['Gender'].value_counts()"
   ]
  },
  {
   "cell_type": "code",
   "execution_count": 13,
   "id": "0d4caeeb",
   "metadata": {},
   "outputs": [
    {
     "name": "stdout",
     "output_type": "stream",
     "text": [
      "Before filling missing values \n",
      "\n",
      "\n",
      "Gender: Male      489\n",
      "Female    112\n",
      "Name: Gender, dtype: int64\n",
      " ******************************\n",
      "Married: Yes    398\n",
      "No     213\n",
      "Name: Married, dtype: int64\n",
      " ******************************\n",
      "Dependents: 0     345\n",
      "1     102\n",
      "2     101\n",
      "3+     51\n",
      "Name: Dependents, dtype: int64\n",
      " ******************************\n",
      "Self_Employed: No     500\n",
      "Yes     82\n",
      "Name: Self_Employed, dtype: int64\n",
      " ******************************\n",
      "LoanAmount: 120.0    20\n",
      "110.0    17\n",
      "100.0    15\n",
      "160.0    12\n",
      "187.0    12\n",
      "         ..\n",
      "240.0     1\n",
      "214.0     1\n",
      "59.0      1\n",
      "166.0     1\n",
      "253.0     1\n",
      "Name: LoanAmount, Length: 203, dtype: int64\n",
      " ******************************\n",
      "Loan_Amount_Term: 360.0    512\n",
      "180.0     44\n",
      "480.0     15\n",
      "300.0     13\n",
      "240.0      4\n",
      "84.0       4\n",
      "120.0      3\n",
      "60.0       2\n",
      "36.0       2\n",
      "12.0       1\n",
      "Name: Loan_Amount_Term, dtype: int64\n",
      " ******************************\n",
      "Credit_History: 1.0    475\n",
      "0.0     89\n",
      "Name: Credit_History, dtype: int64\n",
      " ******************************\n",
      "After filling missing values \n",
      "\n",
      "\n",
      "Gender: Male      502\n",
      "Female    112\n",
      "Name: Gender, dtype: int64\n",
      " ******************************\n",
      "Married: Yes    401\n",
      "No     213\n",
      "Name: Married, dtype: int64\n",
      " ******************************\n",
      "Dependents: 0     360\n",
      "1     102\n",
      "2     101\n",
      "3+     51\n",
      "Name: Dependents, dtype: int64\n",
      " ******************************\n",
      "Self_Employed: No     532\n",
      "Yes     82\n",
      "Name: Self_Employed, dtype: int64\n",
      " ******************************\n",
      "LoanAmount: 120.0    42\n",
      "110.0    17\n",
      "100.0    15\n",
      "160.0    12\n",
      "187.0    12\n",
      "         ..\n",
      "240.0     1\n",
      "214.0     1\n",
      "59.0      1\n",
      "166.0     1\n",
      "253.0     1\n",
      "Name: LoanAmount, Length: 203, dtype: int64\n",
      " ******************************\n",
      "Loan_Amount_Term: 360.0    526\n",
      "180.0     44\n",
      "480.0     15\n",
      "300.0     13\n",
      "240.0      4\n",
      "84.0       4\n",
      "120.0      3\n",
      "60.0       2\n",
      "36.0       2\n",
      "12.0       1\n",
      "Name: Loan_Amount_Term, dtype: int64\n",
      " ******************************\n",
      "Credit_History: 1.0    525\n",
      "0.0     89\n",
      "Name: Credit_History, dtype: int64\n",
      " ******************************\n"
     ]
    }
   ],
   "source": [
    "# Reference: https://stackoverflow.com/questions/40619445/how-to-replace-na-values-with-mode-of-a-dataframe-column-in-python\n",
    "\n",
    "print('Before filling missing values \\n\\n')\n",
    "\n",
    "for columns in['Gender', 'Married', 'Dependents', 'Self_Employed', 'LoanAmount', 'Loan_Amount_Term', 'Credit_History']:\n",
    "    print(f'{columns}: {train_set[columns].value_counts()}\\n','*'*30)\n",
    "    train_set[columns].fillna(train_set[columns].mode()[0], inplace=True)\n",
    "\n",
    "\n",
    "print('After filling missing values \\n\\n')\n",
    "\n",
    "for columns in['Gender', 'Married', 'Dependents', 'Self_Employed', 'LoanAmount', 'Loan_Amount_Term', 'Credit_History']:\n",
    "    print(f'{columns}: {train_set[columns].value_counts()}\\n', '*'*30)\n"
   ]
  },
  {
   "cell_type": "code",
   "execution_count": 14,
   "id": "af6aa8ee",
   "metadata": {},
   "outputs": [],
   "source": [
    "numbers = train_set.select_dtypes('number').columns.to_list()\n",
    "categorical = train_set.select_dtypes('object').columns.to_list()\n",
    "\n",
    "numbers_df = train_set[numbers]\n",
    "categorical_df = train_set[categorical]"
   ]
  },
  {
   "cell_type": "code",
   "execution_count": 15,
   "id": "9265e736",
   "metadata": {},
   "outputs": [
    {
     "data": {
      "text/plain": [
       "['Gender',\n",
       " 'Married',\n",
       " 'Dependents',\n",
       " 'Education',\n",
       " 'Self_Employed',\n",
       " 'Property_Area',\n",
       " 'Loan_Status']"
      ]
     },
     "execution_count": 15,
     "metadata": {},
     "output_type": "execute_result"
    }
   ],
   "source": [
    "categorical"
   ]
  },
  {
   "cell_type": "code",
   "execution_count": 16,
   "id": "02c4c5b4",
   "metadata": {},
   "outputs": [
    {
     "data": {
      "image/png": "[encoded data removed]",
      "text/plain": [
       "<Figure size 1080x720 with 1 Axes>"
      ]
     },
     "metadata": {
      "needs_background": "light"
     },
     "output_type": "display_data"
    },
    {
     "data": {
      "image/png": "[encoded data removed]",
      "text/plain": [
       "<Figure size 1080x720 with 1 Axes>"
      ]
     },
     "metadata": {
      "needs_background": "light"
     },
     "output_type": "display_data"
    },
    {
     "data": {
      "image/png": "[encoded data removed]",
      "text/plain": [
       "<Figure size 1080x720 with 1 Axes>"
      ]
     },
     "metadata": {
      "needs_background": "light"
     },
     "output_type": "display_data"
    },
    {
     "data": {
      "image/png": "[encoded data removed]",
      "text/plain": [
       "<Figure size 1080x720 with 1 Axes>"
      ]
     },
     "metadata": {
      "needs_background": "light"
     },
     "output_type": "display_data"
    },
    {
     "data": {
      "image/png": "[encoded data removed]",
      "text/plain": [
       "<Figure size 1080x720 with 1 Axes>"
      ]
     },
     "metadata": {
      "needs_background": "light"
     },
     "output_type": "display_data"
    },
    {
     "data": {
      "image/png": "[encoded data removed]",
      "text/plain": [
       "<Figure size 1080x720 with 1 Axes>"
      ]
     },
     "metadata": {
      "needs_background": "light"
     },
     "output_type": "display_data"
    },
    {
     "data": {
      "image/png": "[encoded data removed]",
      "text/plain": [
       "<Figure size 1080x720 with 1 Axes>"
      ]
     },
     "metadata": {
      "needs_background": "light"
     },
     "output_type": "display_data"
    }
   ],
   "source": [
    "# Reference: https://seaborn.pydata.org/generated/seaborn.countplot.html\n",
    "\n",
    "for i in categorical:\n",
    "    plt.figure(figsize=(15,10))\n",
    "    plt.subplot(2,3,1)\n",
    "    sns.histplot(x=i ,hue='Loan_Status', data=train_set ,palette='plasma')"
   ]
  },
  {
   "cell_type": "code",
   "execution_count": 17,
   "id": "3aa2fe79",
   "metadata": {},
   "outputs": [
    {
     "data": {
      "image/png": "[encoded data removed]",
      "text/plain": [
       "<Figure size 432x288 with 1 Axes>"
      ]
     },
     "metadata": {
      "needs_background": "light"
     },
     "output_type": "display_data"
    },
    {
     "data": {
      "image/png": "[encoded data removed]",
      "text/plain": [
       "<Figure size 432x288 with 1 Axes>"
      ]
     },
     "metadata": {
      "needs_background": "light"
     },
     "output_type": "display_data"
    },
    {
     "data": {
      "image/png": "[encoded data removed]",
      "text/plain": [
       "<Figure size 432x288 with 1 Axes>"
      ]
     },
     "metadata": {
      "needs_background": "light"
     },
     "output_type": "display_data"
    },
    {
     "data": {
      "image/png": "[encoded data removed]",
      "text/plain": [
       "<Figure size 432x288 with 1 Axes>"
      ]
     },
     "metadata": {
      "needs_background": "light"
     },
     "output_type": "display_data"
    },
    {
     "data": {
      "image/png": "[encoded data removed]",
      "text/plain": [
       "<Figure size 432x288 with 1 Axes>"
      ]
     },
     "metadata": {
      "needs_background": "light"
     },
     "output_type": "display_data"
    }
   ],
   "source": [
    "for i in numbers_df:\n",
    "    plt.hist(numbers_df[i])\n",
    "    plt.title(i)\n",
    "    plt.show()"
   ]
  },
  {
   "cell_type": "code",
   "execution_count": 18,
   "id": "daeb6dd0",
   "metadata": {},
   "outputs": [],
   "source": [
    "from sklearn.preprocessing import LabelEncoder\n",
    "\n",
    "labels = LabelEncoder()\n",
    "\n",
    "for col in categorical:\n",
    "    train_set[col] = labels.fit_transform(train_set[col])\n",
    "\n",
    "for col in ['Gender', 'Married', 'Dependents', 'Education', 'Self_Employed', 'Property_Area']:\n",
    "    test_set[col] = labels.fit_transform(test_set[col])\n"
   ]
  },
  {
   "cell_type": "code",
   "execution_count": 19,
   "id": "3fed821a",
   "metadata": {},
   "outputs": [
    {
     "data": {
      "text/html": [
       "<div>\n",
       "<style scoped>\n",
       "    .dataframe tbody tr th:only-of-type {\n",
       "        vertical-align: middle;\n",
       "    }\n",
       "\n",
       "    .dataframe tbody tr th {\n",
       "        vertical-align: top;\n",
       "    }\n",
       "\n",
       "    .dataframe thead th {\n",
       "        text-align: right;\n",
       "    }\n",
       "</style>\n",
       "<table border=\"1\" class=\"dataframe\">\n",
       "  <thead>\n",
       "    <tr style=\"text-align: right;\">\n",
       "      <th></th>\n",
       "      <th>Gender</th>\n",
       "      <th>Married</th>\n",
       "      <th>Dependents</th>\n",
       "      <th>Education</th>\n",
       "      <th>Self_Employed</th>\n",
       "      <th>ApplicantIncome</th>\n",
       "      <th>CoapplicantIncome</th>\n",
       "      <th>LoanAmount</th>\n",
       "      <th>Loan_Amount_Term</th>\n",
       "      <th>Credit_History</th>\n",
       "      <th>Property_Area</th>\n",
       "      <th>Loan_Status</th>\n",
       "    </tr>\n",
       "  </thead>\n",
       "  <tbody>\n",
       "    <tr>\n",
       "      <th>0</th>\n",
       "      <td>1</td>\n",
       "      <td>0</td>\n",
       "      <td>0</td>\n",
       "      <td>0</td>\n",
       "      <td>0</td>\n",
       "      <td>5849</td>\n",
       "      <td>0.0</td>\n",
       "      <td>120.0</td>\n",
       "      <td>360.0</td>\n",
       "      <td>1.0</td>\n",
       "      <td>2</td>\n",
       "      <td>1</td>\n",
       "    </tr>\n",
       "    <tr>\n",
       "      <th>1</th>\n",
       "      <td>1</td>\n",
       "      <td>1</td>\n",
       "      <td>1</td>\n",
       "      <td>0</td>\n",
       "      <td>0</td>\n",
       "      <td>4583</td>\n",
       "      <td>1508.0</td>\n",
       "      <td>128.0</td>\n",
       "      <td>360.0</td>\n",
       "      <td>1.0</td>\n",
       "      <td>0</td>\n",
       "      <td>0</td>\n",
       "    </tr>\n",
       "    <tr>\n",
       "      <th>2</th>\n",
       "      <td>1</td>\n",
       "      <td>1</td>\n",
       "      <td>0</td>\n",
       "      <td>0</td>\n",
       "      <td>1</td>\n",
       "      <td>3000</td>\n",
       "      <td>0.0</td>\n",
       "      <td>66.0</td>\n",
       "      <td>360.0</td>\n",
       "      <td>1.0</td>\n",
       "      <td>2</td>\n",
       "      <td>1</td>\n",
       "    </tr>\n",
       "    <tr>\n",
       "      <th>3</th>\n",
       "      <td>1</td>\n",
       "      <td>1</td>\n",
       "      <td>0</td>\n",
       "      <td>1</td>\n",
       "      <td>0</td>\n",
       "      <td>2583</td>\n",
       "      <td>2358.0</td>\n",
       "      <td>120.0</td>\n",
       "      <td>360.0</td>\n",
       "      <td>1.0</td>\n",
       "      <td>2</td>\n",
       "      <td>1</td>\n",
       "    </tr>\n",
       "    <tr>\n",
       "      <th>4</th>\n",
       "      <td>1</td>\n",
       "      <td>0</td>\n",
       "      <td>0</td>\n",
       "      <td>0</td>\n",
       "      <td>0</td>\n",
       "      <td>6000</td>\n",
       "      <td>0.0</td>\n",
       "      <td>141.0</td>\n",
       "      <td>360.0</td>\n",
       "      <td>1.0</td>\n",
       "      <td>2</td>\n",
       "      <td>1</td>\n",
       "    </tr>\n",
       "    <tr>\n",
       "      <th>5</th>\n",
       "      <td>1</td>\n",
       "      <td>1</td>\n",
       "      <td>2</td>\n",
       "      <td>0</td>\n",
       "      <td>1</td>\n",
       "      <td>5417</td>\n",
       "      <td>4196.0</td>\n",
       "      <td>267.0</td>\n",
       "      <td>360.0</td>\n",
       "      <td>1.0</td>\n",
       "      <td>2</td>\n",
       "      <td>1</td>\n",
       "    </tr>\n",
       "    <tr>\n",
       "      <th>6</th>\n",
       "      <td>1</td>\n",
       "      <td>1</td>\n",
       "      <td>0</td>\n",
       "      <td>1</td>\n",
       "      <td>0</td>\n",
       "      <td>2333</td>\n",
       "      <td>1516.0</td>\n",
       "      <td>95.0</td>\n",
       "      <td>360.0</td>\n",
       "      <td>1.0</td>\n",
       "      <td>2</td>\n",
       "      <td>1</td>\n",
       "    </tr>\n",
       "    <tr>\n",
       "      <th>7</th>\n",
       "      <td>1</td>\n",
       "      <td>1</td>\n",
       "      <td>3</td>\n",
       "      <td>0</td>\n",
       "      <td>0</td>\n",
       "      <td>3036</td>\n",
       "      <td>2504.0</td>\n",
       "      <td>158.0</td>\n",
       "      <td>360.0</td>\n",
       "      <td>0.0</td>\n",
       "      <td>1</td>\n",
       "      <td>0</td>\n",
       "    </tr>\n",
       "    <tr>\n",
       "      <th>8</th>\n",
       "      <td>1</td>\n",
       "      <td>1</td>\n",
       "      <td>2</td>\n",
       "      <td>0</td>\n",
       "      <td>0</td>\n",
       "      <td>4006</td>\n",
       "      <td>1526.0</td>\n",
       "      <td>168.0</td>\n",
       "      <td>360.0</td>\n",
       "      <td>1.0</td>\n",
       "      <td>2</td>\n",
       "      <td>1</td>\n",
       "    </tr>\n",
       "    <tr>\n",
       "      <th>9</th>\n",
       "      <td>1</td>\n",
       "      <td>1</td>\n",
       "      <td>1</td>\n",
       "      <td>0</td>\n",
       "      <td>0</td>\n",
       "      <td>12841</td>\n",
       "      <td>10968.0</td>\n",
       "      <td>349.0</td>\n",
       "      <td>360.0</td>\n",
       "      <td>1.0</td>\n",
       "      <td>1</td>\n",
       "      <td>0</td>\n",
       "    </tr>\n",
       "  </tbody>\n",
       "</table>\n",
       "</div>"
      ],
      "text/plain": [
       "   Gender  Married  Dependents  Education  Self_Employed  ApplicantIncome  \\\n",
       "0       1        0           0          0              0             5849   \n",
       "1       1        1           1          0              0             4583   \n",
       "2       1        1           0          0              1             3000   \n",
       "3       1        1           0          1              0             2583   \n",
       "4       1        0           0          0              0             6000   \n",
       "5       1        1           2          0              1             5417   \n",
       "6       1        1           0          1              0             2333   \n",
       "7       1        1           3          0              0             3036   \n",
       "8       1        1           2          0              0             4006   \n",
       "9       1        1           1          0              0            12841   \n",
       "\n",
       "   CoapplicantIncome  LoanAmount  Loan_Amount_Term  Credit_History  \\\n",
       "0                0.0       120.0             360.0             1.0   \n",
       "1             1508.0       128.0             360.0             1.0   \n",
       "2                0.0        66.0             360.0             1.0   \n",
       "3             2358.0       120.0             360.0             1.0   \n",
       "4                0.0       141.0             360.0             1.0   \n",
       "5             4196.0       267.0             360.0             1.0   \n",
       "6             1516.0        95.0             360.0             1.0   \n",
       "7             2504.0       158.0             360.0             0.0   \n",
       "8             1526.0       168.0             360.0             1.0   \n",
       "9            10968.0       349.0             360.0             1.0   \n",
       "\n",
       "   Property_Area  Loan_Status  \n",
       "0              2            1  \n",
       "1              0            0  \n",
       "2              2            1  \n",
       "3              2            1  \n",
       "4              2            1  \n",
       "5              2            1  \n",
       "6              2            1  \n",
       "7              1            0  \n",
       "8              2            1  \n",
       "9              1            0  "
      ]
     },
     "execution_count": 19,
     "metadata": {},
     "output_type": "execute_result"
    }
   ],
   "source": [
    "train_set.head(10)"
   ]
  },
  {
   "cell_type": "code",
   "execution_count": 20,
   "id": "269300f3",
   "metadata": {},
   "outputs": [
    {
     "data": {
      "text/html": [
       "<div>\n",
       "<style scoped>\n",
       "    .dataframe tbody tr th:only-of-type {\n",
       "        vertical-align: middle;\n",
       "    }\n",
       "\n",
       "    .dataframe tbody tr th {\n",
       "        vertical-align: top;\n",
       "    }\n",
       "\n",
       "    .dataframe thead th {\n",
       "        text-align: right;\n",
       "    }\n",
       "</style>\n",
       "<table border=\"1\" class=\"dataframe\">\n",
       "  <thead>\n",
       "    <tr style=\"text-align: right;\">\n",
       "      <th></th>\n",
       "      <th>Gender</th>\n",
       "      <th>Married</th>\n",
       "      <th>Dependents</th>\n",
       "      <th>Education</th>\n",
       "      <th>Self_Employed</th>\n",
       "      <th>ApplicantIncome</th>\n",
       "      <th>CoapplicantIncome</th>\n",
       "      <th>LoanAmount</th>\n",
       "      <th>Loan_Amount_Term</th>\n",
       "      <th>Credit_History</th>\n",
       "      <th>Property_Area</th>\n",
       "    </tr>\n",
       "  </thead>\n",
       "  <tbody>\n",
       "    <tr>\n",
       "      <th>0</th>\n",
       "      <td>1</td>\n",
       "      <td>1</td>\n",
       "      <td>0</td>\n",
       "      <td>0</td>\n",
       "      <td>0</td>\n",
       "      <td>5720</td>\n",
       "      <td>0</td>\n",
       "      <td>110.0</td>\n",
       "      <td>360.0</td>\n",
       "      <td>1.0</td>\n",
       "      <td>2</td>\n",
       "    </tr>\n",
       "    <tr>\n",
       "      <th>1</th>\n",
       "      <td>1</td>\n",
       "      <td>1</td>\n",
       "      <td>1</td>\n",
       "      <td>0</td>\n",
       "      <td>0</td>\n",
       "      <td>3076</td>\n",
       "      <td>1500</td>\n",
       "      <td>126.0</td>\n",
       "      <td>360.0</td>\n",
       "      <td>1.0</td>\n",
       "      <td>2</td>\n",
       "    </tr>\n",
       "    <tr>\n",
       "      <th>2</th>\n",
       "      <td>1</td>\n",
       "      <td>1</td>\n",
       "      <td>2</td>\n",
       "      <td>0</td>\n",
       "      <td>0</td>\n",
       "      <td>5000</td>\n",
       "      <td>1800</td>\n",
       "      <td>208.0</td>\n",
       "      <td>360.0</td>\n",
       "      <td>1.0</td>\n",
       "      <td>2</td>\n",
       "    </tr>\n",
       "    <tr>\n",
       "      <th>3</th>\n",
       "      <td>1</td>\n",
       "      <td>1</td>\n",
       "      <td>2</td>\n",
       "      <td>0</td>\n",
       "      <td>0</td>\n",
       "      <td>2340</td>\n",
       "      <td>2546</td>\n",
       "      <td>100.0</td>\n",
       "      <td>360.0</td>\n",
       "      <td>NaN</td>\n",
       "      <td>2</td>\n",
       "    </tr>\n",
       "    <tr>\n",
       "      <th>4</th>\n",
       "      <td>1</td>\n",
       "      <td>0</td>\n",
       "      <td>0</td>\n",
       "      <td>1</td>\n",
       "      <td>0</td>\n",
       "      <td>3276</td>\n",
       "      <td>0</td>\n",
       "      <td>78.0</td>\n",
       "      <td>360.0</td>\n",
       "      <td>1.0</td>\n",
       "      <td>2</td>\n",
       "    </tr>\n",
       "    <tr>\n",
       "      <th>5</th>\n",
       "      <td>1</td>\n",
       "      <td>1</td>\n",
       "      <td>0</td>\n",
       "      <td>1</td>\n",
       "      <td>1</td>\n",
       "      <td>2165</td>\n",
       "      <td>3422</td>\n",
       "      <td>152.0</td>\n",
       "      <td>360.0</td>\n",
       "      <td>1.0</td>\n",
       "      <td>2</td>\n",
       "    </tr>\n",
       "    <tr>\n",
       "      <th>6</th>\n",
       "      <td>0</td>\n",
       "      <td>0</td>\n",
       "      <td>1</td>\n",
       "      <td>1</td>\n",
       "      <td>0</td>\n",
       "      <td>2226</td>\n",
       "      <td>0</td>\n",
       "      <td>59.0</td>\n",
       "      <td>360.0</td>\n",
       "      <td>1.0</td>\n",
       "      <td>1</td>\n",
       "    </tr>\n",
       "    <tr>\n",
       "      <th>7</th>\n",
       "      <td>1</td>\n",
       "      <td>1</td>\n",
       "      <td>2</td>\n",
       "      <td>1</td>\n",
       "      <td>0</td>\n",
       "      <td>3881</td>\n",
       "      <td>0</td>\n",
       "      <td>147.0</td>\n",
       "      <td>360.0</td>\n",
       "      <td>0.0</td>\n",
       "      <td>0</td>\n",
       "    </tr>\n",
       "    <tr>\n",
       "      <th>8</th>\n",
       "      <td>1</td>\n",
       "      <td>1</td>\n",
       "      <td>2</td>\n",
       "      <td>0</td>\n",
       "      <td>2</td>\n",
       "      <td>13633</td>\n",
       "      <td>0</td>\n",
       "      <td>280.0</td>\n",
       "      <td>240.0</td>\n",
       "      <td>1.0</td>\n",
       "      <td>2</td>\n",
       "    </tr>\n",
       "    <tr>\n",
       "      <th>9</th>\n",
       "      <td>1</td>\n",
       "      <td>0</td>\n",
       "      <td>0</td>\n",
       "      <td>1</td>\n",
       "      <td>0</td>\n",
       "      <td>2400</td>\n",
       "      <td>2400</td>\n",
       "      <td>123.0</td>\n",
       "      <td>360.0</td>\n",
       "      <td>1.0</td>\n",
       "      <td>1</td>\n",
       "    </tr>\n",
       "  </tbody>\n",
       "</table>\n",
       "</div>"
      ],
      "text/plain": [
       "   Gender  Married  Dependents  Education  Self_Employed  ApplicantIncome  \\\n",
       "0       1        1           0          0              0             5720   \n",
       "1       1        1           1          0              0             3076   \n",
       "2       1        1           2          0              0             5000   \n",
       "3       1        1           2          0              0             2340   \n",
       "4       1        0           0          1              0             3276   \n",
       "5       1        1           0          1              1             2165   \n",
       "6       0        0           1          1              0             2226   \n",
       "7       1        1           2          1              0             3881   \n",
       "8       1        1           2          0              2            13633   \n",
       "9       1        0           0          1              0             2400   \n",
       "\n",
       "   CoapplicantIncome  LoanAmount  Loan_Amount_Term  Credit_History  \\\n",
       "0                  0       110.0             360.0             1.0   \n",
       "1               1500       126.0             360.0             1.0   \n",
       "2               1800       208.0             360.0             1.0   \n",
       "3               2546       100.0             360.0             NaN   \n",
       "4                  0        78.0             360.0             1.0   \n",
       "5               3422       152.0             360.0             1.0   \n",
       "6                  0        59.0             360.0             1.0   \n",
       "7                  0       147.0             360.0             0.0   \n",
       "8                  0       280.0             240.0             1.0   \n",
       "9               2400       123.0             360.0             1.0   \n",
       "\n",
       "   Property_Area  \n",
       "0              2  \n",
       "1              2  \n",
       "2              2  \n",
       "3              2  \n",
       "4              2  \n",
       "5              2  \n",
       "6              1  \n",
       "7              0  \n",
       "8              2  \n",
       "9              1  "
      ]
     },
     "execution_count": 20,
     "metadata": {},
     "output_type": "execute_result"
    }
   ],
   "source": [
    "test_set.head(10)"
   ]
  },
  {
   "cell_type": "code",
   "execution_count": 21,
   "id": "44dfa4e5",
   "metadata": {},
   "outputs": [
    {
     "name": "stdout",
     "output_type": "stream",
     "text": [
      "<class 'pandas.core.frame.DataFrame'>\n",
      "RangeIndex: 614 entries, 0 to 613\n",
      "Data columns (total 12 columns):\n",
      " #   Column             Non-Null Count  Dtype  \n",
      "---  ------             --------------  -----  \n",
      " 0   Gender             614 non-null    int32  \n",
      " 1   Married            614 non-null    int32  \n",
      " 2   Dependents         614 non-null    int32  \n",
      " 3   Education          614 non-null    int32  \n",
      " 4   Self_Employed      614 non-null    int32  \n",
      " 5   ApplicantIncome    614 non-null    int64  \n",
      " 6   CoapplicantIncome  614 non-null    float64\n",
      " 7   LoanAmount         614 non-null    float64\n",
      " 8   Loan_Amount_Term   614 non-null    float64\n",
      " 9   Credit_History     614 non-null    float64\n",
      " 10  Property_Area      614 non-null    int32  \n",
      " 11  Loan_Status        614 non-null    int32  \n",
      "dtypes: float64(4), int32(7), int64(1)\n",
      "memory usage: 40.9 KB\n"
     ]
    }
   ],
   "source": [
    "train_set.info()"
   ]
  },
  {
   "cell_type": "code",
   "execution_count": 22,
   "id": "f033db30",
   "metadata": {},
   "outputs": [
    {
     "name": "stdout",
     "output_type": "stream",
     "text": [
      "<class 'pandas.core.frame.DataFrame'>\n",
      "RangeIndex: 367 entries, 0 to 366\n",
      "Data columns (total 11 columns):\n",
      " #   Column             Non-Null Count  Dtype  \n",
      "---  ------             --------------  -----  \n",
      " 0   Gender             367 non-null    int32  \n",
      " 1   Married            367 non-null    int32  \n",
      " 2   Dependents         367 non-null    int32  \n",
      " 3   Education          367 non-null    int32  \n",
      " 4   Self_Employed      367 non-null    int32  \n",
      " 5   ApplicantIncome    367 non-null    int64  \n",
      " 6   CoapplicantIncome  367 non-null    int64  \n",
      " 7   LoanAmount         362 non-null    float64\n",
      " 8   Loan_Amount_Term   361 non-null    float64\n",
      " 9   Credit_History     338 non-null    float64\n",
      " 10  Property_Area      367 non-null    int32  \n",
      "dtypes: float64(3), int32(6), int64(2)\n",
      "memory usage: 23.1 KB\n"
     ]
    }
   ],
   "source": [
    "test_set.info()"
   ]
  },
  {
   "cell_type": "code",
   "execution_count": 23,
   "id": "e7920602",
   "metadata": {},
   "outputs": [
    {
     "data": {
      "text/html": [
       "<style type=\"text/css\">\n",
       "#T_1a24f_row0_col0, #T_1a24f_row1_col1, #T_1a24f_row2_col2, #T_1a24f_row3_col3, #T_1a24f_row4_col4, #T_1a24f_row5_col5, #T_1a24f_row6_col6, #T_1a24f_row7_col7, #T_1a24f_row8_col8, #T_1a24f_row9_col9, #T_1a24f_row10_col10, #T_1a24f_row11_col11 {\n",
       "  background-color: #b40426;\n",
       "  color: #f1f1f1;\n",
       "}\n",
       "#T_1a24f_row0_col1 {\n",
       "  background-color: #c7d7f0;\n",
       "  color: #000000;\n",
       "}\n",
       "#T_1a24f_row0_col2 {\n",
       "  background-color: #8db0fe;\n",
       "  color: #000000;\n",
       "}\n",
       "#T_1a24f_row0_col3 {\n",
       "  background-color: #7699f6;\n",
       "  color: #f1f1f1;\n",
       "}\n",
       "#T_1a24f_row0_col4 {\n",
       "  background-color: #445acc;\n",
       "  color: #f1f1f1;\n",
       "}\n",
       "#T_1a24f_row0_col5, #T_1a24f_row1_col6, #T_1a24f_row11_col1 {\n",
       "  background-color: #7295f4;\n",
       "  color: #f1f1f1;\n",
       "}\n",
       "#T_1a24f_row0_col6, #T_1a24f_row8_col7 {\n",
       "  background-color: #7396f5;\n",
       "  color: #f1f1f1;\n",
       "}\n",
       "#T_1a24f_row0_col7, #T_1a24f_row4_col5 {\n",
       "  background-color: #88abfd;\n",
       "  color: #000000;\n",
       "}\n",
       "#T_1a24f_row0_col8, #T_1a24f_row3_col8, #T_1a24f_row5_col3, #T_1a24f_row6_col11, #T_1a24f_row7_col10, #T_1a24f_row10_col8 {\n",
       "  background-color: #4257c9;\n",
       "  color: #f1f1f1;\n",
       "}\n",
       "#T_1a24f_row0_col9, #T_1a24f_row1_col10, #T_1a24f_row4_col11, #T_1a24f_row5_col11, #T_1a24f_row9_col0 {\n",
       "  background-color: #516ddb;\n",
       "  color: #f1f1f1;\n",
       "}\n",
       "#T_1a24f_row0_col10, #T_1a24f_row10_col0 {\n",
       "  background-color: #485fd1;\n",
       "  color: #f1f1f1;\n",
       "}\n",
       "#T_1a24f_row0_col11, #T_1a24f_row4_col1, #T_1a24f_row10_col1, #T_1a24f_row10_col2 {\n",
       "  background-color: #5875e1;\n",
       "  color: #f1f1f1;\n",
       "}\n",
       "#T_1a24f_row1_col0 {\n",
       "  background-color: #c3d5f4;\n",
       "  color: #000000;\n",
       "}\n",
       "#T_1a24f_row1_col2, #T_1a24f_row2_col1 {\n",
       "  background-color: #bfd3f6;\n",
       "  color: #000000;\n",
       "}\n",
       "#T_1a24f_row1_col3, #T_1a24f_row5_col4 {\n",
       "  background-color: #6b8df0;\n",
       "  color: #f1f1f1;\n",
       "}\n",
       "#T_1a24f_row1_col4 {\n",
       "  background-color: #455cce;\n",
       "  color: #f1f1f1;\n",
       "}\n",
       "#T_1a24f_row1_col5, #T_1a24f_row7_col0 {\n",
       "  background-color: #7093f3;\n",
       "  color: #f1f1f1;\n",
       "}\n",
       "#T_1a24f_row1_col7 {\n",
       "  background-color: #94b6ff;\n",
       "  color: #000000;\n",
       "}\n",
       "#T_1a24f_row1_col8, #T_1a24f_row2_col8, #T_1a24f_row3_col5, #T_1a24f_row3_col7, #T_1a24f_row3_col9, #T_1a24f_row3_col11, #T_1a24f_row5_col6, #T_1a24f_row7_col3, #T_1a24f_row8_col0, #T_1a24f_row8_col1, #T_1a24f_row8_col2, #T_1a24f_row8_col4, #T_1a24f_row8_col10, #T_1a24f_row10_col4 {\n",
       "  background-color: #3b4cc0;\n",
       "  color: #f1f1f1;\n",
       "}\n",
       "#T_1a24f_row1_col9, #T_1a24f_row6_col9, #T_1a24f_row6_col10, #T_1a24f_row8_col3, #T_1a24f_row9_col3 {\n",
       "  background-color: #536edd;\n",
       "  color: #f1f1f1;\n",
       "}\n",
       "#T_1a24f_row1_col11, #T_1a24f_row6_col1 {\n",
       "  background-color: #6e90f2;\n",
       "  color: #f1f1f1;\n",
       "}\n",
       "#T_1a24f_row2_col0, #T_1a24f_row2_col5 {\n",
       "  background-color: #85a8fc;\n",
       "  color: #f1f1f1;\n",
       "}\n",
       "#T_1a24f_row2_col3 {\n",
       "  background-color: #799cf8;\n",
       "  color: #f1f1f1;\n",
       "}\n",
       "#T_1a24f_row2_col4, #T_1a24f_row2_col11, #T_1a24f_row9_col8, #T_1a24f_row10_col3 {\n",
       "  background-color: #5572df;\n",
       "  color: #f1f1f1;\n",
       "}\n",
       "#T_1a24f_row2_col6 {\n",
       "  background-color: #6384eb;\n",
       "  color: #f1f1f1;\n",
       "}\n",
       "#T_1a24f_row2_col7 {\n",
       "  background-color: #98b9ff;\n",
       "  color: #000000;\n",
       "}\n",
       "#T_1a24f_row2_col9, #T_1a24f_row9_col4, #T_1a24f_row11_col4 {\n",
       "  background-color: #4358cb;\n",
       "  color: #f1f1f1;\n",
       "}\n",
       "#T_1a24f_row2_col10, #T_1a24f_row9_col10, #T_1a24f_row10_col9, #T_1a24f_row11_col3, #T_1a24f_row11_col8 {\n",
       "  background-color: #506bda;\n",
       "  color: #f1f1f1;\n",
       "}\n",
       "#T_1a24f_row3_col0 {\n",
       "  background-color: #5d7ce6;\n",
       "  color: #f1f1f1;\n",
       "}\n",
       "#T_1a24f_row3_col1, #T_1a24f_row9_col1, #T_1a24f_row10_col7, #T_1a24f_row11_col2 {\n",
       "  background-color: #5a78e4;\n",
       "  color: #f1f1f1;\n",
       "}\n",
       "#T_1a24f_row3_col2, #T_1a24f_row4_col2, #T_1a24f_row6_col0, #T_1a24f_row9_col7 {\n",
       "  background-color: #688aef;\n",
       "  color: #f1f1f1;\n",
       "}\n",
       "#T_1a24f_row3_col4, #T_1a24f_row6_col5 {\n",
       "  background-color: #4055c8;\n",
       "  color: #f1f1f1;\n",
       "}\n",
       "#T_1a24f_row3_col6, #T_1a24f_row7_col11 {\n",
       "  background-color: #4961d2;\n",
       "  color: #f1f1f1;\n",
       "}\n",
       "#T_1a24f_row3_col10 {\n",
       "  background-color: #3d50c3;\n",
       "  color: #f1f1f1;\n",
       "}\n",
       "#T_1a24f_row4_col0, #T_1a24f_row4_col9, #T_1a24f_row7_col9 {\n",
       "  background-color: #4f69d9;\n",
       "  color: #f1f1f1;\n",
       "}\n",
       "#T_1a24f_row4_col3 {\n",
       "  background-color: #6485ec;\n",
       "  color: #f1f1f1;\n",
       "}\n",
       "#T_1a24f_row4_col6, #T_1a24f_row6_col3 {\n",
       "  background-color: #5673e0;\n",
       "  color: #f1f1f1;\n",
       "}\n",
       "#T_1a24f_row4_col7 {\n",
       "  background-color: #8badfd;\n",
       "  color: #000000;\n",
       "}\n",
       "#T_1a24f_row4_col8, #T_1a24f_row8_col9 {\n",
       "  background-color: #4e68d8;\n",
       "  color: #f1f1f1;\n",
       "}\n",
       "#T_1a24f_row4_col10, #T_1a24f_row6_col8 {\n",
       "  background-color: #465ecf;\n",
       "  color: #f1f1f1;\n",
       "}\n",
       "#T_1a24f_row5_col0, #T_1a24f_row6_col2 {\n",
       "  background-color: #6180e9;\n",
       "  color: #f1f1f1;\n",
       "}\n",
       "#T_1a24f_row5_col1 {\n",
       "  background-color: #6687ed;\n",
       "  color: #f1f1f1;\n",
       "}\n",
       "#T_1a24f_row5_col2 {\n",
       "  background-color: #7b9ff9;\n",
       "  color: #f1f1f1;\n",
       "}\n",
       "#T_1a24f_row5_col7 {\n",
       "  background-color: #f5c4ac;\n",
       "  color: #000000;\n",
       "}\n",
       "#T_1a24f_row5_col8, #T_1a24f_row5_col9, #T_1a24f_row8_col6, #T_1a24f_row11_col6 {\n",
       "  background-color: #4a63d3;\n",
       "  color: #f1f1f1;\n",
       "}\n",
       "#T_1a24f_row5_col10 {\n",
       "  background-color: #4c66d6;\n",
       "  color: #f1f1f1;\n",
       "}\n",
       "#T_1a24f_row6_col4 {\n",
       "  background-color: #3f53c6;\n",
       "  color: #f1f1f1;\n",
       "}\n",
       "#T_1a24f_row6_col7 {\n",
       "  background-color: #a1c0ff;\n",
       "  color: #000000;\n",
       "}\n",
       "#T_1a24f_row7_col1 {\n",
       "  background-color: #84a7fc;\n",
       "  color: #f1f1f1;\n",
       "}\n",
       "#T_1a24f_row7_col2 {\n",
       "  background-color: #89acfd;\n",
       "  color: #000000;\n",
       "}\n",
       "#T_1a24f_row7_col4 {\n",
       "  background-color: #6788ee;\n",
       "  color: #f1f1f1;\n",
       "}\n",
       "#T_1a24f_row7_col5 {\n",
       "  background-color: #f4c6af;\n",
       "  color: #000000;\n",
       "}\n",
       "#T_1a24f_row7_col6 {\n",
       "  background-color: #96b7ff;\n",
       "  color: #000000;\n",
       "}\n",
       "#T_1a24f_row7_col8 {\n",
       "  background-color: #6282ea;\n",
       "  color: #f1f1f1;\n",
       "}\n",
       "#T_1a24f_row8_col5, #T_1a24f_row11_col0 {\n",
       "  background-color: #5470de;\n",
       "  color: #f1f1f1;\n",
       "}\n",
       "#T_1a24f_row8_col11, #T_1a24f_row9_col2 {\n",
       "  background-color: #4b64d5;\n",
       "  color: #f1f1f1;\n",
       "}\n",
       "#T_1a24f_row9_col5, #T_1a24f_row10_col11 {\n",
       "  background-color: #5b7ae5;\n",
       "  color: #f1f1f1;\n",
       "}\n",
       "#T_1a24f_row9_col6, #T_1a24f_row10_col5, #T_1a24f_row10_col6 {\n",
       "  background-color: #5e7de7;\n",
       "  color: #f1f1f1;\n",
       "}\n",
       "#T_1a24f_row9_col11 {\n",
       "  background-color: #eed0c0;\n",
       "  color: #000000;\n",
       "}\n",
       "#T_1a24f_row11_col5, #T_1a24f_row11_col7 {\n",
       "  background-color: #5f7fe8;\n",
       "  color: #f1f1f1;\n",
       "}\n",
       "#T_1a24f_row11_col9 {\n",
       "  background-color: #edd1c2;\n",
       "  color: #000000;\n",
       "}\n",
       "#T_1a24f_row11_col10 {\n",
       "  background-color: #5977e3;\n",
       "  color: #f1f1f1;\n",
       "}\n",
       "</style>\n",
       "<table id=\"T_1a24f\">\n",
       "  <thead>\n",
       "    <tr>\n",
       "      <th class=\"blank level0\" >&nbsp;</th>\n",
       "      <th id=\"T_1a24f_level0_col0\" class=\"col_heading level0 col0\" >Gender</th>\n",
       "      <th id=\"T_1a24f_level0_col1\" class=\"col_heading level0 col1\" >Married</th>\n",
       "      <th id=\"T_1a24f_level0_col2\" class=\"col_heading level0 col2\" >Dependents</th>\n",
       "      <th id=\"T_1a24f_level0_col3\" class=\"col_heading level0 col3\" >Education</th>\n",
       "      <th id=\"T_1a24f_level0_col4\" class=\"col_heading level0 col4\" >Self_Employed</th>\n",
       "      <th id=\"T_1a24f_level0_col5\" class=\"col_heading level0 col5\" >ApplicantIncome</th>\n",
       "      <th id=\"T_1a24f_level0_col6\" class=\"col_heading level0 col6\" >CoapplicantIncome</th>\n",
       "      <th id=\"T_1a24f_level0_col7\" class=\"col_heading level0 col7\" >LoanAmount</th>\n",
       "      <th id=\"T_1a24f_level0_col8\" class=\"col_heading level0 col8\" >Loan_Amount_Term</th>\n",
       "      <th id=\"T_1a24f_level0_col9\" class=\"col_heading level0 col9\" >Credit_History</th>\n",
       "      <th id=\"T_1a24f_level0_col10\" class=\"col_heading level0 col10\" >Property_Area</th>\n",
       "      <th id=\"T_1a24f_level0_col11\" class=\"col_heading level0 col11\" >Loan_Status</th>\n",
       "    </tr>\n",
       "  </thead>\n",
       "  <tbody>\n",
       "    <tr>\n",
       "      <th id=\"T_1a24f_level0_row0\" class=\"row_heading level0 row0\" >Gender</th>\n",
       "      <td id=\"T_1a24f_row0_col0\" class=\"data row0 col0\" >1.000000</td>\n",
       "      <td id=\"T_1a24f_row0_col1\" class=\"data row0 col1\" >0.364569</td>\n",
       "      <td id=\"T_1a24f_row0_col2\" class=\"data row0 col2\" >0.172914</td>\n",
       "      <td id=\"T_1a24f_row0_col3\" class=\"data row0 col3\" >0.045364</td>\n",
       "      <td id=\"T_1a24f_row0_col4\" class=\"data row0 col4\" >-0.000525</td>\n",
       "      <td id=\"T_1a24f_row0_col5\" class=\"data row0 col5\" >0.058809</td>\n",
       "      <td id=\"T_1a24f_row0_col6\" class=\"data row0 col6\" >0.082912</td>\n",
       "      <td id=\"T_1a24f_row0_col7\" class=\"data row0 col7\" >0.106404</td>\n",
       "      <td id=\"T_1a24f_row0_col8\" class=\"data row0 col8\" >-0.074030</td>\n",
       "      <td id=\"T_1a24f_row0_col9\" class=\"data row0 col9\" >0.009170</td>\n",
       "      <td id=\"T_1a24f_row0_col10\" class=\"data row0 col10\" >-0.025752</td>\n",
       "      <td id=\"T_1a24f_row0_col11\" class=\"data row0 col11\" >0.017987</td>\n",
       "    </tr>\n",
       "    <tr>\n",
       "      <th id=\"T_1a24f_level0_row1\" class=\"row_heading level0 row1\" >Married</th>\n",
       "      <td id=\"T_1a24f_row1_col0\" class=\"data row1 col0\" >0.364569</td>\n",
       "      <td id=\"T_1a24f_row1_col1\" class=\"data row1 col1\" >1.000000</td>\n",
       "      <td id=\"T_1a24f_row1_col2\" class=\"data row1 col2\" >0.334216</td>\n",
       "      <td id=\"T_1a24f_row1_col3\" class=\"data row1 col3\" >0.012304</td>\n",
       "      <td id=\"T_1a24f_row1_col4\" class=\"data row1 col4\" >0.004489</td>\n",
       "      <td id=\"T_1a24f_row1_col5\" class=\"data row1 col5\" >0.051708</td>\n",
       "      <td id=\"T_1a24f_row1_col6\" class=\"data row1 col6\" >0.075948</td>\n",
       "      <td id=\"T_1a24f_row1_col7\" class=\"data row1 col7\" >0.146212</td>\n",
       "      <td id=\"T_1a24f_row1_col8\" class=\"data row1 col8\" >-0.100912</td>\n",
       "      <td id=\"T_1a24f_row1_col9\" class=\"data row1 col9\" >0.010938</td>\n",
       "      <td id=\"T_1a24f_row1_col10\" class=\"data row1 col10\" >0.004257</td>\n",
       "      <td id=\"T_1a24f_row1_col11\" class=\"data row1 col11\" >0.091478</td>\n",
       "    </tr>\n",
       "    <tr>\n",
       "      <th id=\"T_1a24f_level0_row2\" class=\"row_heading level0 row2\" >Dependents</th>\n",
       "      <td id=\"T_1a24f_row2_col0\" class=\"data row2 col0\" >0.172914</td>\n",
       "      <td id=\"T_1a24f_row2_col1\" class=\"data row2 col1\" >0.334216</td>\n",
       "      <td id=\"T_1a24f_row2_col2\" class=\"data row2 col2\" >1.000000</td>\n",
       "      <td id=\"T_1a24f_row2_col3\" class=\"data row2 col3\" >0.055752</td>\n",
       "      <td id=\"T_1a24f_row2_col4\" class=\"data row2 col4\" >0.056798</td>\n",
       "      <td id=\"T_1a24f_row2_col5\" class=\"data row2 col5\" >0.118202</td>\n",
       "      <td id=\"T_1a24f_row2_col6\" class=\"data row2 col6\" >0.030430</td>\n",
       "      <td id=\"T_1a24f_row2_col7\" class=\"data row2 col7\" >0.163017</td>\n",
       "      <td id=\"T_1a24f_row2_col8\" class=\"data row2 col8\" >-0.103864</td>\n",
       "      <td id=\"T_1a24f_row2_col9\" class=\"data row2 col9\" >-0.040160</td>\n",
       "      <td id=\"T_1a24f_row2_col10\" class=\"data row2 col10\" >-0.000244</td>\n",
       "      <td id=\"T_1a24f_row2_col11\" class=\"data row2 col11\" >0.010118</td>\n",
       "    </tr>\n",
       "    <tr>\n",
       "      <th id=\"T_1a24f_level0_row3\" class=\"row_heading level0 row3\" >Education</th>\n",
       "      <td id=\"T_1a24f_row3_col0\" class=\"data row3 col0\" >0.045364</td>\n",
       "      <td id=\"T_1a24f_row3_col1\" class=\"data row3 col1\" >0.012304</td>\n",
       "      <td id=\"T_1a24f_row3_col2\" class=\"data row3 col2\" >0.055752</td>\n",
       "      <td id=\"T_1a24f_row3_col3\" class=\"data row3 col3\" >1.000000</td>\n",
       "      <td id=\"T_1a24f_row3_col4\" class=\"data row3 col4\" >-0.010383</td>\n",
       "      <td id=\"T_1a24f_row3_col5\" class=\"data row3 col5\" >-0.140760</td>\n",
       "      <td id=\"T_1a24f_row3_col6\" class=\"data row3 col6\" >-0.062290</td>\n",
       "      <td id=\"T_1a24f_row3_col7\" class=\"data row3 col7\" >-0.169436</td>\n",
       "      <td id=\"T_1a24f_row3_col8\" class=\"data row3 col8\" >-0.073928</td>\n",
       "      <td id=\"T_1a24f_row3_col9\" class=\"data row3 col9\" >-0.073658</td>\n",
       "      <td id=\"T_1a24f_row3_col10\" class=\"data row3 col10\" >-0.065243</td>\n",
       "      <td id=\"T_1a24f_row3_col11\" class=\"data row3 col11\" >-0.085884</td>\n",
       "    </tr>\n",
       "    <tr>\n",
       "      <th id=\"T_1a24f_level0_row4\" class=\"row_heading level0 row4\" >Self_Employed</th>\n",
       "      <td id=\"T_1a24f_row4_col0\" class=\"data row4 col0\" >-0.000525</td>\n",
       "      <td id=\"T_1a24f_row4_col1\" class=\"data row4 col1\" >0.004489</td>\n",
       "      <td id=\"T_1a24f_row4_col2\" class=\"data row4 col2\" >0.056798</td>\n",
       "      <td id=\"T_1a24f_row4_col3\" class=\"data row4 col3\" >-0.010383</td>\n",
       "      <td id=\"T_1a24f_row4_col4\" class=\"data row4 col4\" >1.000000</td>\n",
       "      <td id=\"T_1a24f_row4_col5\" class=\"data row4 col5\" >0.127180</td>\n",
       "      <td id=\"T_1a24f_row4_col6\" class=\"data row4 col6\" >-0.016100</td>\n",
       "      <td id=\"T_1a24f_row4_col7\" class=\"data row4 col7\" >0.114971</td>\n",
       "      <td id=\"T_1a24f_row4_col8\" class=\"data row4 col8\" >-0.033739</td>\n",
       "      <td id=\"T_1a24f_row4_col9\" class=\"data row4 col9\" >-0.001550</td>\n",
       "      <td id=\"T_1a24f_row4_col10\" class=\"data row4 col10\" >-0.030860</td>\n",
       "      <td id=\"T_1a24f_row4_col11\" class=\"data row4 col11\" >-0.003700</td>\n",
       "    </tr>\n",
       "    <tr>\n",
       "      <th id=\"T_1a24f_level0_row5\" class=\"row_heading level0 row5\" >ApplicantIncome</th>\n",
       "      <td id=\"T_1a24f_row5_col0\" class=\"data row5 col0\" >0.058809</td>\n",
       "      <td id=\"T_1a24f_row5_col1\" class=\"data row5 col1\" >0.051708</td>\n",
       "      <td id=\"T_1a24f_row5_col2\" class=\"data row5 col2\" >0.118202</td>\n",
       "      <td id=\"T_1a24f_row5_col3\" class=\"data row5 col3\" >-0.140760</td>\n",
       "      <td id=\"T_1a24f_row5_col4\" class=\"data row5 col4\" >0.127180</td>\n",
       "      <td id=\"T_1a24f_row5_col5\" class=\"data row5 col5\" >1.000000</td>\n",
       "      <td id=\"T_1a24f_row5_col6\" class=\"data row5 col6\" >-0.116605</td>\n",
       "      <td id=\"T_1a24f_row5_col7\" class=\"data row5 col7\" >0.564698</td>\n",
       "      <td id=\"T_1a24f_row5_col8\" class=\"data row5 col8\" >-0.046531</td>\n",
       "      <td id=\"T_1a24f_row5_col9\" class=\"data row5 col9\" >-0.018615</td>\n",
       "      <td id=\"T_1a24f_row5_col10\" class=\"data row5 col10\" >-0.009500</td>\n",
       "      <td id=\"T_1a24f_row5_col11\" class=\"data row5 col11\" >-0.004710</td>\n",
       "    </tr>\n",
       "    <tr>\n",
       "      <th id=\"T_1a24f_level0_row6\" class=\"row_heading level0 row6\" >CoapplicantIncome</th>\n",
       "      <td id=\"T_1a24f_row6_col0\" class=\"data row6 col0\" >0.082912</td>\n",
       "      <td id=\"T_1a24f_row6_col1\" class=\"data row6 col1\" >0.075948</td>\n",
       "      <td id=\"T_1a24f_row6_col2\" class=\"data row6 col2\" >0.030430</td>\n",
       "      <td id=\"T_1a24f_row6_col3\" class=\"data row6 col3\" >-0.062290</td>\n",
       "      <td id=\"T_1a24f_row6_col4\" class=\"data row6 col4\" >-0.016100</td>\n",
       "      <td id=\"T_1a24f_row6_col5\" class=\"data row6 col5\" >-0.116605</td>\n",
       "      <td id=\"T_1a24f_row6_col6\" class=\"data row6 col6\" >1.000000</td>\n",
       "      <td id=\"T_1a24f_row6_col7\" class=\"data row6 col7\" >0.189723</td>\n",
       "      <td id=\"T_1a24f_row6_col8\" class=\"data row6 col8\" >-0.059383</td>\n",
       "      <td id=\"T_1a24f_row6_col9\" class=\"data row6 col9\" >0.011134</td>\n",
       "      <td id=\"T_1a24f_row6_col10\" class=\"data row6 col10\" >0.010522</td>\n",
       "      <td id=\"T_1a24f_row6_col11\" class=\"data row6 col11\" >-0.059187</td>\n",
       "    </tr>\n",
       "    <tr>\n",
       "      <th id=\"T_1a24f_level0_row7\" class=\"row_heading level0 row7\" >LoanAmount</th>\n",
       "      <td id=\"T_1a24f_row7_col0\" class=\"data row7 col0\" >0.106404</td>\n",
       "      <td id=\"T_1a24f_row7_col1\" class=\"data row7 col1\" >0.146212</td>\n",
       "      <td id=\"T_1a24f_row7_col2\" class=\"data row7 col2\" >0.163017</td>\n",
       "      <td id=\"T_1a24f_row7_col3\" class=\"data row7 col3\" >-0.169436</td>\n",
       "      <td id=\"T_1a24f_row7_col4\" class=\"data row7 col4\" >0.114971</td>\n",
       "      <td id=\"T_1a24f_row7_col5\" class=\"data row7 col5\" >0.564698</td>\n",
       "      <td id=\"T_1a24f_row7_col6\" class=\"data row7 col6\" >0.189723</td>\n",
       "      <td id=\"T_1a24f_row7_col7\" class=\"data row7 col7\" >1.000000</td>\n",
       "      <td id=\"T_1a24f_row7_col8\" class=\"data row7 col8\" >0.037152</td>\n",
       "      <td id=\"T_1a24f_row7_col9\" class=\"data row7 col9\" >-0.000250</td>\n",
       "      <td id=\"T_1a24f_row7_col10\" class=\"data row7 col10\" >-0.047414</td>\n",
       "      <td id=\"T_1a24f_row7_col11\" class=\"data row7 col11\" >-0.031808</td>\n",
       "    </tr>\n",
       "    <tr>\n",
       "      <th id=\"T_1a24f_level0_row8\" class=\"row_heading level0 row8\" >Loan_Amount_Term</th>\n",
       "      <td id=\"T_1a24f_row8_col0\" class=\"data row8 col0\" >-0.074030</td>\n",
       "      <td id=\"T_1a24f_row8_col1\" class=\"data row8 col1\" >-0.100912</td>\n",
       "      <td id=\"T_1a24f_row8_col2\" class=\"data row8 col2\" >-0.103864</td>\n",
       "      <td id=\"T_1a24f_row8_col3\" class=\"data row8 col3\" >-0.073928</td>\n",
       "      <td id=\"T_1a24f_row8_col4\" class=\"data row8 col4\" >-0.033739</td>\n",
       "      <td id=\"T_1a24f_row8_col5\" class=\"data row8 col5\" >-0.046531</td>\n",
       "      <td id=\"T_1a24f_row8_col6\" class=\"data row8 col6\" >-0.059383</td>\n",
       "      <td id=\"T_1a24f_row8_col7\" class=\"data row8 col7\" >0.037152</td>\n",
       "      <td id=\"T_1a24f_row8_col8\" class=\"data row8 col8\" >1.000000</td>\n",
       "      <td id=\"T_1a24f_row8_col9\" class=\"data row8 col9\" >-0.004705</td>\n",
       "      <td id=\"T_1a24f_row8_col10\" class=\"data row8 col10\" >-0.076120</td>\n",
       "      <td id=\"T_1a24f_row8_col11\" class=\"data row8 col11\" >-0.022549</td>\n",
       "    </tr>\n",
       "    <tr>\n",
       "      <th id=\"T_1a24f_level0_row9\" class=\"row_heading level0 row9\" >Credit_History</th>\n",
       "      <td id=\"T_1a24f_row9_col0\" class=\"data row9 col0\" >0.009170</td>\n",
       "      <td id=\"T_1a24f_row9_col1\" class=\"data row9 col1\" >0.010938</td>\n",
       "      <td id=\"T_1a24f_row9_col2\" class=\"data row9 col2\" >-0.040160</td>\n",
       "      <td id=\"T_1a24f_row9_col3\" class=\"data row9 col3\" >-0.073658</td>\n",
       "      <td id=\"T_1a24f_row9_col4\" class=\"data row9 col4\" >-0.001550</td>\n",
       "      <td id=\"T_1a24f_row9_col5\" class=\"data row9 col5\" >-0.018615</td>\n",
       "      <td id=\"T_1a24f_row9_col6\" class=\"data row9 col6\" >0.011134</td>\n",
       "      <td id=\"T_1a24f_row9_col7\" class=\"data row9 col7\" >-0.000250</td>\n",
       "      <td id=\"T_1a24f_row9_col8\" class=\"data row9 col8\" >-0.004705</td>\n",
       "      <td id=\"T_1a24f_row9_col9\" class=\"data row9 col9\" >1.000000</td>\n",
       "      <td id=\"T_1a24f_row9_col10\" class=\"data row9 col10\" >0.001963</td>\n",
       "      <td id=\"T_1a24f_row9_col11\" class=\"data row9 col11\" >0.540556</td>\n",
       "    </tr>\n",
       "    <tr>\n",
       "      <th id=\"T_1a24f_level0_row10\" class=\"row_heading level0 row10\" >Property_Area</th>\n",
       "      <td id=\"T_1a24f_row10_col0\" class=\"data row10 col0\" >-0.025752</td>\n",
       "      <td id=\"T_1a24f_row10_col1\" class=\"data row10 col1\" >0.004257</td>\n",
       "      <td id=\"T_1a24f_row10_col2\" class=\"data row10 col2\" >-0.000244</td>\n",
       "      <td id=\"T_1a24f_row10_col3\" class=\"data row10 col3\" >-0.065243</td>\n",
       "      <td id=\"T_1a24f_row10_col4\" class=\"data row10 col4\" >-0.030860</td>\n",
       "      <td id=\"T_1a24f_row10_col5\" class=\"data row10 col5\" >-0.009500</td>\n",
       "      <td id=\"T_1a24f_row10_col6\" class=\"data row10 col6\" >0.010522</td>\n",
       "      <td id=\"T_1a24f_row10_col7\" class=\"data row10 col7\" >-0.047414</td>\n",
       "      <td id=\"T_1a24f_row10_col8\" class=\"data row10 col8\" >-0.076120</td>\n",
       "      <td id=\"T_1a24f_row10_col9\" class=\"data row10 col9\" >0.001963</td>\n",
       "      <td id=\"T_1a24f_row10_col10\" class=\"data row10 col10\" >1.000000</td>\n",
       "      <td id=\"T_1a24f_row10_col11\" class=\"data row10 col11\" >0.032112</td>\n",
       "    </tr>\n",
       "    <tr>\n",
       "      <th id=\"T_1a24f_level0_row11\" class=\"row_heading level0 row11\" >Loan_Status</th>\n",
       "      <td id=\"T_1a24f_row11_col0\" class=\"data row11 col0\" >0.017987</td>\n",
       "      <td id=\"T_1a24f_row11_col1\" class=\"data row11 col1\" >0.091478</td>\n",
       "      <td id=\"T_1a24f_row11_col2\" class=\"data row11 col2\" >0.010118</td>\n",
       "      <td id=\"T_1a24f_row11_col3\" class=\"data row11 col3\" >-0.085884</td>\n",
       "      <td id=\"T_1a24f_row11_col4\" class=\"data row11 col4\" >-0.003700</td>\n",
       "      <td id=\"T_1a24f_row11_col5\" class=\"data row11 col5\" >-0.004710</td>\n",
       "      <td id=\"T_1a24f_row11_col6\" class=\"data row11 col6\" >-0.059187</td>\n",
       "      <td id=\"T_1a24f_row11_col7\" class=\"data row11 col7\" >-0.031808</td>\n",
       "      <td id=\"T_1a24f_row11_col8\" class=\"data row11 col8\" >-0.022549</td>\n",
       "      <td id=\"T_1a24f_row11_col9\" class=\"data row11 col9\" >0.540556</td>\n",
       "      <td id=\"T_1a24f_row11_col10\" class=\"data row11 col10\" >0.032112</td>\n",
       "      <td id=\"T_1a24f_row11_col11\" class=\"data row11 col11\" >1.000000</td>\n",
       "    </tr>\n",
       "  </tbody>\n",
       "</table>\n"
      ],
      "text/plain": [
       "<pandas.io.formats.style.Styler at 0x26413d28f40>"
      ]
     },
     "execution_count": 23,
     "metadata": {},
     "output_type": "execute_result"
    }
   ],
   "source": [
    "# Reference: https://www.stackvidhya.com/plot-correlation-matrix-in-pandas-python/\n",
    "\n",
    "corr = train_set.corr()\n",
    "\n",
    "corr.style.background_gradient(cmap='coolwarm')"
   ]
  },
  {
   "cell_type": "code",
   "execution_count": 24,
   "id": "66e5c635",
   "metadata": {},
   "outputs": [],
   "source": [
    "# It seems that credit_history has the highest correlation with loan_status.Therefore our target value is highly dependant on this column."
   ]
  },
  {
   "cell_type": "code",
   "execution_count": 25,
   "id": "2614022d",
   "metadata": {},
   "outputs": [
    {
     "data": {
      "text/plain": [
       "<AxesSubplot:>"
      ]
     },
     "execution_count": 25,
     "metadata": {},
     "output_type": "execute_result"
    },
    {
     "data": {
      "image/png": "[encoded data removed]",
      "text/plain": [
       "<Figure size 432x288 with 2 Axes>"
      ]
     },
     "metadata": {
      "needs_background": "light"
     },
     "output_type": "display_data"
    }
   ],
   "source": [
    "# Reference: https://www.kaggle.com/code/yonatanrabinovich/loan-prediction-dataset-ml-project/notebook\n",
    "\n",
    "sns.heatmap(train_set.corr() ,cmap='cubehelix_r')"
   ]
  },
  {
   "cell_type": "code",
   "execution_count": 26,
   "id": "2527253e",
   "metadata": {},
   "outputs": [],
   "source": [
    "y = train_set['Loan_Status']\n",
    "x = train_set.iloc[:,0:11]"
   ]
  },
  {
   "cell_type": "code",
   "execution_count": 27,
   "id": "c6f60495",
   "metadata": {},
   "outputs": [],
   "source": [
    "from sklearn.model_selection import train_test_split\n",
    "\n",
    "train_X, test_X, train_Y, test_Y = train_test_split(x, y, test_size = 0.3, random_state = 0)"
   ]
  },
  {
   "cell_type": "code",
   "execution_count": 28,
   "id": "34857d01",
   "metadata": {},
   "outputs": [],
   "source": [
    "# KNN\n",
    "\n",
    "from sklearn.neighbors import KNeighborsClassifier\n",
    "\n",
    "k = 14\n",
    "knn_model = KNeighborsClassifier(n_neighbors = k).fit(train_X, train_Y)"
   ]
  },
  {
   "cell_type": "code",
   "execution_count": 29,
   "id": "dc560f23",
   "metadata": {},
   "outputs": [],
   "source": [
    "yhat = knn_model.predict(test_X)"
   ]
  },
  {
   "cell_type": "code",
   "execution_count": 30,
   "id": "6193a24c",
   "metadata": {},
   "outputs": [
    {
     "name": "stdout",
     "output_type": "stream",
     "text": [
      "train set accuracy: 0.703962703962704\n",
      "test set accuracy: 0.6648648648648648\n"
     ]
    }
   ],
   "source": [
    "from sklearn import metrics\n",
    "\n",
    "print('train set accuracy:', metrics.accuracy_score(train_Y, knn_model.predict(train_X)))\n",
    "print('test set accuracy:', metrics.accuracy_score(test_Y, yhat))"
   ]
  },
  {
   "cell_type": "code",
   "execution_count": 31,
   "id": "f5fd5357",
   "metadata": {},
   "outputs": [
    {
     "name": "stdout",
     "output_type": "stream",
     "text": [
      "Minimum error:- 0.2756756756756757 at K = 36\n"
     ]
    },
    {
     "data": {
      "image/png": "[encoded data removed]",
      "text/plain": [
       "<Figure size 720x432 with 1 Axes>"
      ]
     },
     "metadata": {
      "needs_background": "light"
     },
     "output_type": "display_data"
    }
   ],
   "source": [
    "# Reference: https://towardsdatascience.com/how-to-find-the-optimal-value-of-k-in-knn-35d936e554eb\n",
    "\n",
    "error_rate = []\n",
    "for i in range(1,40):\n",
    "    knn_model = KNeighborsClassifier(n_neighbors=i)\n",
    "    knn_model.fit(train_X,train_Y)\n",
    "    pred_i = knn_model.predict(test_X)\n",
    "    error_rate.append(np.mean(pred_i != test_Y))\n",
    "\n",
    "plt.figure(figsize=(10,6))\n",
    "plt.plot(range(1,40),error_rate,color='blue', linestyle='dashed', \n",
    "         marker='o',markerfacecolor='red', markersize=10)\n",
    "plt.title('Error Rate vs. K Value')\n",
    "plt.xlabel('K')\n",
    "plt.ylabel('Error Rate')\n",
    "print(\"Minimum error:-\",min(error_rate),\"at K =\",error_rate.index(min(error_rate)))"
   ]
  },
  {
   "cell_type": "code",
   "execution_count": 32,
   "id": "0836504d",
   "metadata": {},
   "outputs": [],
   "source": [
    "# it seems that the optimal value for k is 34"
   ]
  },
  {
   "cell_type": "code",
   "execution_count": 33,
   "id": "d6387850",
   "metadata": {},
   "outputs": [
    {
     "name": "stdout",
     "output_type": "stream",
     "text": [
      "Maximum accuracy:- 0.7243243243243244 at K = 36\n"
     ]
    },
    {
     "data": {
      "image/png": "[encoded data removed]",
      "text/plain": [
       "<Figure size 720x432 with 1 Axes>"
      ]
     },
     "metadata": {
      "needs_background": "light"
     },
     "output_type": "display_data"
    }
   ],
   "source": [
    "acc = []\n",
    "# Will take some time\n",
    "from sklearn import metrics\n",
    "for i in range(1,40):\n",
    "    knn_model = KNeighborsClassifier(n_neighbors = i).fit(train_X,train_Y)\n",
    "    yhat = knn_model.predict(test_X)\n",
    "    acc.append(metrics.accuracy_score(test_Y, yhat))\n",
    "    \n",
    "plt.figure(figsize=(10,6))\n",
    "plt.plot(range(1,40),acc,color = 'blue',linestyle='dashed', \n",
    "         marker='o',markerfacecolor='red', markersize=10)\n",
    "plt.title('accuracy vs. K Value')\n",
    "plt.xlabel('K')\n",
    "plt.ylabel('Accuracy')\n",
    "print(\"Maximum accuracy:-\",max(acc),\"at K =\",acc.index(max(acc)))"
   ]
  },
  {
   "cell_type": "code",
   "execution_count": 34,
   "id": "f17a2722",
   "metadata": {},
   "outputs": [
    {
     "data": {
      "text/plain": [
       "0.7243243243243244"
      ]
     },
     "execution_count": 34,
     "metadata": {},
     "output_type": "execute_result"
    }
   ],
   "source": [
    "# jaccard_index\n",
    "\n",
    "from sklearn.metrics import jaccard_score\n",
    "\n",
    "jaccard_score(test_Y, yhat)"
   ]
  },
  {
   "cell_type": "code",
   "execution_count": 35,
   "id": "3c3ea2a9",
   "metadata": {},
   "outputs": [
    {
     "name": "stdout",
     "output_type": "stream",
     "text": [
      "              precision    recall  f1-score   support\n",
      "\n",
      "           0       0.00      0.00      0.00        51\n",
      "           1       0.72      1.00      0.84       134\n",
      "\n",
      "    accuracy                           0.72       185\n",
      "   macro avg       0.36      0.50      0.42       185\n",
      "weighted avg       0.52      0.72      0.61       185\n",
      "\n"
     ]
    },
    {
     "name": "stderr",
     "output_type": "stream",
     "text": [
      "C:\\Users\\user\\anaconda3\\lib\\site-packages\\sklearn\\metrics\\_classification.py:1318: UndefinedMetricWarning: Precision and F-score are ill-defined and being set to 0.0 in labels with no predicted samples. Use `zero_division` parameter to control this behavior.\n",
      "  _warn_prf(average, modifier, msg_start, len(result))\n",
      "C:\\Users\\user\\anaconda3\\lib\\site-packages\\sklearn\\metrics\\_classification.py:1318: UndefinedMetricWarning: Precision and F-score are ill-defined and being set to 0.0 in labels with no predicted samples. Use `zero_division` parameter to control this behavior.\n",
      "  _warn_prf(average, modifier, msg_start, len(result))\n",
      "C:\\Users\\user\\anaconda3\\lib\\site-packages\\sklearn\\metrics\\_classification.py:1318: UndefinedMetricWarning: Precision and F-score are ill-defined and being set to 0.0 in labels with no predicted samples. Use `zero_division` parameter to control this behavior.\n",
      "  _warn_prf(average, modifier, msg_start, len(result))\n"
     ]
    }
   ],
   "source": [
    "from sklearn.metrics import classification_report\n",
    "\n",
    "print(classification_report(test_Y, yhat))"
   ]
  },
  {
   "cell_type": "code",
   "execution_count": 36,
   "id": "aef7c3de",
   "metadata": {},
   "outputs": [
    {
     "data": {
      "text/plain": [
       "<sklearn.metrics._plot.confusion_matrix.ConfusionMatrixDisplay at 0x264147bc280>"
      ]
     },
     "execution_count": 36,
     "metadata": {},
     "output_type": "execute_result"
    },
    {
     "data": {
      "image/png": "[encoded data removed]",
      "text/plain": [
       "<Figure size 432x288 with 2 Axes>"
      ]
     },
     "metadata": {
      "needs_background": "light"
     },
     "output_type": "display_data"
    }
   ],
   "source": [
    "# Reference: https://scikit-learn.org/stable/modules/generated/sklearn.metrics.ConfusionMatrixDisplay.html#sklearn.metrics.ConfusionMatrixDisplay.from_predictions\n",
    "\n",
    "from sklearn.metrics import ConfusionMatrixDisplay\n",
    "\n",
    "ConfusionMatrixDisplay.from_predictions(test_Y, yhat)"
   ]
  },
  {
   "cell_type": "code",
   "execution_count": 37,
   "id": "0c9d2c65",
   "metadata": {},
   "outputs": [],
   "source": [
    "# decision tree"
   ]
  },
  {
   "cell_type": "code",
   "execution_count": 38,
   "id": "8fba0135",
   "metadata": {},
   "outputs": [],
   "source": [
    "from sklearn.tree import DecisionTreeClassifier\n",
    "\n",
    "decisiontree_model = DecisionTreeClassifier(criterion = 'entropy', splitter = 'best', max_depth = 4).fit(train_X, train_Y)"
   ]
  },
  {
   "cell_type": "code",
   "execution_count": 39,
   "id": "3a749814",
   "metadata": {},
   "outputs": [],
   "source": [
    "yhat_tree = decisiontree_model.predict(test_X)"
   ]
  },
  {
   "cell_type": "code",
   "execution_count": 40,
   "id": "55f48a1c",
   "metadata": {},
   "outputs": [
    {
     "name": "stdout",
     "output_type": "stream",
     "text": [
      "train set accuracy: 0.8228438228438228\n",
      "test set accuracy: 0.8054054054054054\n"
     ]
    }
   ],
   "source": [
    "from sklearn import metrics\n",
    "\n",
    "print('train set accuracy:', metrics.accuracy_score(train_Y, decisiontree_model.predict(train_X)))\n",
    "print('test set accuracy:', metrics.accuracy_score(test_Y, yhat_tree))"
   ]
  },
  {
   "cell_type": "code",
   "execution_count": 41,
   "id": "319006a5",
   "metadata": {},
   "outputs": [
    {
     "data": {
      "text/plain": [
       "0.7831325301204819"
      ]
     },
     "execution_count": 41,
     "metadata": {},
     "output_type": "execute_result"
    }
   ],
   "source": [
    "# jaccard_index\n",
    "\n",
    "from sklearn.metrics import jaccard_score\n",
    "\n",
    "jaccard_score(test_Y, yhat_tree)"
   ]
  },
  {
   "cell_type": "code",
   "execution_count": 42,
   "id": "3c1ed319",
   "metadata": {},
   "outputs": [
    {
     "name": "stdout",
     "output_type": "stream",
     "text": [
      "              precision    recall  f1-score   support\n",
      "\n",
      "           0       0.83      0.37      0.51        51\n",
      "           1       0.80      0.97      0.88       134\n",
      "\n",
      "    accuracy                           0.81       185\n",
      "   macro avg       0.81      0.67      0.70       185\n",
      "weighted avg       0.81      0.81      0.78       185\n",
      "\n"
     ]
    }
   ],
   "source": [
    "from sklearn.metrics import classification_report\n",
    "\n",
    "print(classification_report(test_Y, yhat_tree))"
   ]
  },
  {
   "cell_type": "code",
   "execution_count": 43,
   "id": "16e8ced2",
   "metadata": {},
   "outputs": [
    {
     "data": {
      "text/plain": [
       "<sklearn.metrics._plot.confusion_matrix.ConfusionMatrixDisplay at 0x26414f517c0>"
      ]
     },
     "execution_count": 43,
     "metadata": {},
     "output_type": "execute_result"
    },
    {
     "data": {
      "image/png": "[encoded data removed]",
      "text/plain": [
       "<Figure size 432x288 with 2 Axes>"
      ]
     },
     "metadata": {
      "needs_background": "light"
     },
     "output_type": "display_data"
    }
   ],
   "source": [
    "from sklearn.metrics import ConfusionMatrixDisplay\n",
    "\n",
    "ConfusionMatrixDisplay.from_predictions(test_Y, yhat_tree)"
   ]
  },
  {
   "cell_type": "code",
   "execution_count": 44,
   "id": "20ed5882",
   "metadata": {},
   "outputs": [],
   "source": [
    "# random forest"
   ]
  },
  {
   "cell_type": "code",
   "execution_count": 45,
   "id": "a1643f73",
   "metadata": {},
   "outputs": [],
   "source": [
    "from sklearn.ensemble import RandomForestClassifier\n",
    "\n",
    "forest_model = RandomForestClassifier().fit(train_X, train_Y)"
   ]
  },
  {
   "cell_type": "code",
   "execution_count": 46,
   "id": "b52f4d6b",
   "metadata": {},
   "outputs": [],
   "source": [
    "yhat_forest = forest_model.predict(test_X)"
   ]
  },
  {
   "cell_type": "code",
   "execution_count": 47,
   "id": "15a44992",
   "metadata": {},
   "outputs": [
    {
     "name": "stdout",
     "output_type": "stream",
     "text": [
      "train set accuracy: 1.0\n",
      "test set accuracy: 0.7891891891891892\n"
     ]
    }
   ],
   "source": [
    "# from sklearn import metrics\n",
    "\n",
    "# print('train set accuracy:', metrics.accuracy_score(train_Y, forest_model.predict(train_X)))\n",
    "# Sprint('test set accuracy:', metrics.accuracy_score(test_Y, yhat_forest))"
   ]
  },
  {
   "cell_type": "code",
   "execution_count": 48,
   "id": "841e29aa",
   "metadata": {},
   "outputs": [
    {
     "data": {
      "text/plain": [
       "0.7607361963190185"
      ]
     },
     "execution_count": 48,
     "metadata": {},
     "output_type": "execute_result"
    }
   ],
   "source": [
    "# jaccard_index\n",
    "\n",
    "from sklearn.metrics import jaccard_score\n",
    "\n",
    "jaccard_score(test_Y, yhat_forest)"
   ]
  },
  {
   "cell_type": "code",
   "execution_count": 49,
   "id": "f0465e07",
   "metadata": {},
   "outputs": [
    {
     "name": "stdout",
     "output_type": "stream",
     "text": [
      "              precision    recall  f1-score   support\n",
      "\n",
      "           0       0.69      0.43      0.53        51\n",
      "           1       0.81      0.93      0.86       134\n",
      "\n",
      "    accuracy                           0.79       185\n",
      "   macro avg       0.75      0.68      0.70       185\n",
      "weighted avg       0.78      0.79      0.77       185\n",
      "\n"
     ]
    }
   ],
   "source": [
    "from sklearn.metrics import classification_report\n",
    "\n",
    "print(classification_report(test_Y, yhat_forest))"
   ]
  },
  {
   "cell_type": "code",
   "execution_count": 50,
   "id": "fc721b51",
   "metadata": {},
   "outputs": [
    {
     "data": {
      "text/plain": [
       "<sklearn.metrics._plot.confusion_matrix.ConfusionMatrixDisplay at 0x26414ed5dc0>"
      ]
     },
     "execution_count": 50,
     "metadata": {},
     "output_type": "execute_result"
    },
    {
     "data": {
      "image/png": "[encoded data removed]",
      "text/plain": [
       "<Figure size 432x288 with 2 Axes>"
      ]
     },
     "metadata": {
      "needs_background": "light"
     },
     "output_type": "display_data"
    }
   ],
   "source": [
    "from sklearn.metrics import ConfusionMatrixDisplay\n",
    "\n",
    "ConfusionMatrixDisplay.from_predictions(test_Y, yhat_forest)"
   ]
  },
  {
   "cell_type": "code",
   "execution_count": 51,
   "id": "c53dedf9",
   "metadata": {},
   "outputs": [],
   "source": [
    "# XGboost"
   ]
  },
  {
   "cell_type": "code",
   "execution_count": 58,
   "id": "78ea3829",
   "metadata": {},
   "outputs": [
    {
     "name": "stdout",
     "output_type": "stream",
     "text": [
      "[14:07:01] WARNING: C:\\Windows\\Temp\\abs_557yfx631l\\croots\\recipe\\xgboost-split_1659548953302\\work\\src\\learner.cc:1115: Starting in XGBoost 1.3.0, the default evaluation metric used with the objective 'binary:logistic' was changed from 'error' to 'logloss'. Explicitly set eval_metric if you'd like to restore the old behavior.\n"
     ]
    },
    {
     "name": "stderr",
     "output_type": "stream",
     "text": [
      "C:\\Users\\user\\anaconda3\\lib\\site-packages\\xgboost\\compat.py:36: FutureWarning: pandas.Int64Index is deprecated and will be removed from pandas in a future version. Use pandas.Index with the appropriate dtype instead.\n",
      "  from pandas import MultiIndex, Int64Index\n",
      "C:\\Users\\user\\anaconda3\\lib\\site-packages\\xgboost\\sklearn.py:1224: UserWarning: The use of label encoder in XGBClassifier is deprecated and will be removed in a future release. To remove this warning, do the following: 1) Pass option use_label_encoder=False when constructing XGBClassifier object; and 2) Encode your labels (y) as integers starting with 0, i.e. 0, 1, 2, ..., [num_class - 1].\n",
      "  warnings.warn(label_encoder_deprecation_msg, UserWarning)\n",
      "C:\\Users\\user\\anaconda3\\lib\\site-packages\\xgboost\\data.py:250: FutureWarning: pandas.Int64Index is deprecated and will be removed from pandas in a future version. Use pandas.Index with the appropriate dtype instead.\n",
      "  elif isinstance(data.columns, (pd.Int64Index, pd.RangeIndex)):\n"
     ]
    }
   ],
   "source": [
    "from xgboost import XGBClassifier\n",
    "\n",
    "xgb_model = XGBClassifier().fit(train_X, train_Y)"
   ]
  },
  {
   "cell_type": "code",
   "execution_count": 59,
   "id": "58426ca9",
   "metadata": {},
   "outputs": [],
   "source": [
    "yhat_xgb = xgb_model.predict(test_X)"
   ]
  },
  {
   "cell_type": "code",
   "execution_count": 60,
   "id": "950a51b9",
   "metadata": {},
   "outputs": [
    {
     "name": "stdout",
     "output_type": "stream",
     "text": [
      "train set accuracy: 1.0\n",
      "test set accuracy: 0.7945945945945946\n"
     ]
    }
   ],
   "source": [
    "# from sklearn import metrics\n",
    "\n",
    "# print('train set accuracy:', metrics.accuracy_score(train_Y, xgb_model.predict(train_X)))\n",
    "# print('test set accuracy:', metrics.accuracy_score(test_Y, yhat_xgb))"
   ]
  },
  {
   "cell_type": "code",
   "execution_count": null,
   "id": "b5e4ca67",
   "metadata": {},
   "outputs": [],
   "source": [
    "# jaccard_index\n",
    "\n",
    "from sklearn.metrics import jaccard_score\n",
    "\n",
    "jaccard_score(test_Y, yhat_xgb)"
   ]
  },
  {
   "cell_type": "code",
   "execution_count": 61,
   "id": "3062f618",
   "metadata": {},
   "outputs": [
    {
     "name": "stdout",
     "output_type": "stream",
     "text": [
      "              precision    recall  f1-score   support\n",
      "\n",
      "           0       0.65      0.55      0.60        51\n",
      "           1       0.84      0.89      0.86       134\n",
      "\n",
      "    accuracy                           0.79       185\n",
      "   macro avg       0.74      0.72      0.73       185\n",
      "weighted avg       0.79      0.79      0.79       185\n",
      "\n"
     ]
    }
   ],
   "source": [
    "from sklearn.metrics import classification_report\n",
    "\n",
    "print(classification_report(test_Y, yhat_xgb))"
   ]
  },
  {
   "cell_type": "code",
   "execution_count": 62,
   "id": "e5c4e845",
   "metadata": {},
   "outputs": [
    {
     "data": {
      "text/plain": [
       "<sklearn.metrics._plot.confusion_matrix.ConfusionMatrixDisplay at 0x26414e7b2b0>"
      ]
     },
     "execution_count": 62,
     "metadata": {},
     "output_type": "execute_result"
    },
    {
     "data": {
      "image/png": "[encoded data removed]",
      "text/plain": [
       "<Figure size 432x288 with 2 Axes>"
      ]
     },
     "metadata": {
      "needs_background": "light"
     },
     "output_type": "display_data"
    }
   ],
   "source": [
    "from sklearn.metrics import ConfusionMatrixDisplay\n",
    "\n",
    "ConfusionMatrixDisplay.from_predictions(test_Y, yhat_xgb)"
   ]
  },
  {
   "cell_type": "code",
   "execution_count": 63,
   "id": "1c6944f3",
   "metadata": {},
   "outputs": [],
   "source": [
    "# logistic regression"
   ]
  },
  {
   "cell_type": "code",
   "execution_count": 64,
   "id": "611649a9",
   "metadata": {},
   "outputs": [],
   "source": [
    "from sklearn.linear_model import LogisticRegression\n",
    "\n",
    "lr_model = LogisticRegression(C=0.01, solver = 'liblinear').fit(train_X, train_Y)"
   ]
  },
  {
   "cell_type": "code",
   "execution_count": 65,
   "id": "12c80b2a",
   "metadata": {},
   "outputs": [],
   "source": [
    "yhat_lr = lr_model.predict(test_X)"
   ]
  },
  {
   "cell_type": "code",
   "execution_count": 70,
   "id": "e3934ae5",
   "metadata": {},
   "outputs": [],
   "source": [
    "# from sklearn import metrics\n",
    "\n",
    "# print('train set accuracy:', metrics.accuracy_score(train_Y, lr_model.predict(train_X)))\n",
    "# print('test set accuracy:', metrics.accuracy_score(test_Y, yhat_lr))"
   ]
  },
  {
   "cell_type": "code",
   "execution_count": 67,
   "id": "569e1d77",
   "metadata": {},
   "outputs": [
    {
     "data": {
      "text/plain": [
       "0.7282608695652174"
      ]
     },
     "execution_count": 67,
     "metadata": {},
     "output_type": "execute_result"
    }
   ],
   "source": [
    "# jaccard_index\n",
    "\n",
    "from sklearn.metrics import jaccard_score\n",
    "\n",
    "jaccard_score(test_Y, yhat_lr)"
   ]
  },
  {
   "cell_type": "code",
   "execution_count": 68,
   "id": "3c2b08ff",
   "metadata": {},
   "outputs": [
    {
     "name": "stdout",
     "output_type": "stream",
     "text": [
      "              precision    recall  f1-score   support\n",
      "\n",
      "           0       1.00      0.02      0.04        51\n",
      "           1       0.73      1.00      0.84       134\n",
      "\n",
      "    accuracy                           0.73       185\n",
      "   macro avg       0.86      0.51      0.44       185\n",
      "weighted avg       0.80      0.73      0.62       185\n",
      "\n"
     ]
    }
   ],
   "source": [
    "from sklearn.metrics import classification_report\n",
    "\n",
    "print(classification_report(test_Y, yhat_lr))"
   ]
  },
  {
   "cell_type": "code",
   "execution_count": 69,
   "id": "6b0b3c7d",
   "metadata": {},
   "outputs": [
    {
     "data": {
      "text/plain": [
       "<sklearn.metrics._plot.confusion_matrix.ConfusionMatrixDisplay at 0x26416efbdc0>"
      ]
     },
     "execution_count": 69,
     "metadata": {},
     "output_type": "execute_result"
    },
    {
     "data": {
      "image/png": "[encoded data removed]",
      "text/plain": [
       "<Figure size 432x288 with 2 Axes>"
      ]
     },
     "metadata": {
      "needs_background": "light"
     },
     "output_type": "display_data"
    }
   ],
   "source": [
    "from sklearn.metrics import ConfusionMatrixDisplay\n",
    "\n",
    "ConfusionMatrixDisplay.from_predictions(test_Y, yhat_lr)"
   ]
  },
  {
   "cell_type": "code",
   "execution_count": null,
   "id": "92f718e5",
   "metadata": {},
   "outputs": [],
   "source": []
  }
 ],
 "metadata": {
  "kernelspec": {
   "display_name": "Python 3 (ipykernel)",
   "language": "python",
   "name": "python3"
  },
  "language_info": {
   "codemirror_mode": {
    "name": "ipython",
    "version": 3
   },
   "file_extension": ".py",
   "mimetype": "text/x-python",
   "name": "python",
   "nbconvert_exporter": "python",
   "pygments_lexer": "ipython3",
   "version": "3.9.12"
  }
 },
 "nbformat": 4,
 "nbformat_minor": 5
}
